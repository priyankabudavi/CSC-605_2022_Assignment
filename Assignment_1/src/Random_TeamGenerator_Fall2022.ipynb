{
 "cells": [
  {
   "cell_type": "markdown",
   "id": "7624488c",
   "metadata": {},
   "source": [
    "# Generating a Random Team Members list using dictionary"
   ]
  },
  {
   "cell_type": "markdown",
   "id": "c8c56fc1",
   "metadata": {},
   "source": [
    "### Data Preprocessing "
   ]
  },
  {
   "cell_type": "markdown",
   "id": "7c6d4a45",
   "metadata": {},
   "source": [
    "#### Open and read the TSV File "
   ]
  },
  {
   "cell_type": "code",
   "execution_count": 14,
   "id": "e967ebd2",
   "metadata": {},
   "outputs": [],
   "source": [
    "# import all the required libraries\n",
    "import csv\n",
    "import random"
   ]
  },
  {
   "cell_type": "markdown",
   "id": "3b12359e",
   "metadata": {},
   "source": [
    "# Referred below site to read the TSV file : \n",
    "    * https://www.geeksforgeeks.org/simple-ways-to-read-tsv-files-in-python/\n",
    "    * https://stackoverflow.com/questions/34258007/does-pythons-csv-readerfilename-really-return-a-list-doesnt-seem-so"
   ]
  },
  {
   "cell_type": "code",
   "execution_count": 2,
   "id": "4d6eff8f",
   "metadata": {},
   "outputs": [],
   "source": [
    "read_tsv_file = open(\"../data/fall-22-students.tsv\")\n",
    "\n",
    "#The below line of code returns an object and that has to to converted to list to view the values \n",
    "members = list(csv.reader(read_tsv_file))"
   ]
  },
  {
   "cell_type": "code",
   "execution_count": 3,
   "id": "27bd80c7",
   "metadata": {},
   "outputs": [
    {
     "name": "stdout",
     "output_type": "stream",
     "text": [
      "['Student\\tHash']\n",
      "['Annamalai', ' Varsha\\t2732727504348557328']\n",
      "['Arasikere Rakesh', ' Raveena\\t2715387848376511785']\n",
      "['Budavi', ' Priyanka\\t609722887760680710']\n",
      "['Darandale', ' Aditi\\t-3592947821904789059']\n",
      "['Doerr', ' Maximilian\\t-241870194234947188']\n",
      "['Farahani', ' Parisa\\t-782669854885580552']\n",
      "['Gabbula', ' Sai Ram Ajay Krishna\\t3430638400286662722']\n",
      "['Gabbula', ' Venkata Vijay Krishna\\t2274622967677883996']\n",
      "['Gunde', ' Deeksha\\t4069553384325267097']\n",
      "['Kallem', ' Snehith\\t296389889114347009']\n",
      "['Kuluri', ' Manichandana\\t-9113492615128308341']\n",
      "['Nimmaturi', ' Sai Swapnika\\t8871653806563935680']\n",
      "['Potlapally', ' Shruti Nandana\\t6680005440180066297']\n",
      "['Shah', ' Manish\\t4333100139881963958']\n",
      "['Shou', ' Wenhao\\t2262113024811264944']\n",
      "['Veeramaneni', ' Varsha\\t-1090991306239913969']\n",
      "['Vidapu', ' Aman Tej\\t7347350608443768573']\n",
      "['Abisiga', ' Mojeed\\t1756748071387330450']\n",
      "['Gayam', ' Sai Santosh Reddy\\t-2863333019251892158']\n",
      "['Havalchi', ' Mufaddal\\t5556700921407775642']\n",
      "['Nezianya', ' Ndubuisi\\t-1868760087748791974']\n",
      "['Patil', ' Deeksha\\t7980120123048414705']\n",
      "['Teri', ' Benjamin\\t8158995515482271942']\n"
     ]
    }
   ],
   "source": [
    "#Displaying the members in the file\n",
    "for i in members:\n",
    "    print(i)"
   ]
  },
  {
   "cell_type": "markdown",
   "id": "6b5596d0",
   "metadata": {},
   "source": [
    "#### From above we observe that the first index is not a value as its a header, so deleting the index from the list"
   ]
  },
  {
   "cell_type": "code",
   "execution_count": 4,
   "id": "783d21c6",
   "metadata": {},
   "outputs": [],
   "source": [
    "#deleting the first index of the list\n",
    "del members[0]"
   ]
  },
  {
   "cell_type": "code",
   "execution_count": 5,
   "id": "08cbce51",
   "metadata": {},
   "outputs": [
    {
     "data": {
      "text/plain": [
       "[['Annamalai', ' Varsha\\t2732727504348557328'],\n",
       " ['Arasikere Rakesh', ' Raveena\\t2715387848376511785'],\n",
       " ['Budavi', ' Priyanka\\t609722887760680710'],\n",
       " ['Darandale', ' Aditi\\t-3592947821904789059'],\n",
       " ['Doerr', ' Maximilian\\t-241870194234947188'],\n",
       " ['Farahani', ' Parisa\\t-782669854885580552'],\n",
       " ['Gabbula', ' Sai Ram Ajay Krishna\\t3430638400286662722'],\n",
       " ['Gabbula', ' Venkata Vijay Krishna\\t2274622967677883996'],\n",
       " ['Gunde', ' Deeksha\\t4069553384325267097'],\n",
       " ['Kallem', ' Snehith\\t296389889114347009'],\n",
       " ['Kuluri', ' Manichandana\\t-9113492615128308341'],\n",
       " ['Nimmaturi', ' Sai Swapnika\\t8871653806563935680'],\n",
       " ['Potlapally', ' Shruti Nandana\\t6680005440180066297'],\n",
       " ['Shah', ' Manish\\t4333100139881963958'],\n",
       " ['Shou', ' Wenhao\\t2262113024811264944'],\n",
       " ['Veeramaneni', ' Varsha\\t-1090991306239913969'],\n",
       " ['Vidapu', ' Aman Tej\\t7347350608443768573'],\n",
       " ['Abisiga', ' Mojeed\\t1756748071387330450'],\n",
       " ['Gayam', ' Sai Santosh Reddy\\t-2863333019251892158'],\n",
       " ['Havalchi', ' Mufaddal\\t5556700921407775642'],\n",
       " ['Nezianya', ' Ndubuisi\\t-1868760087748791974'],\n",
       " ['Patil', ' Deeksha\\t7980120123048414705'],\n",
       " ['Teri', ' Benjamin\\t8158995515482271942']]"
      ]
     },
     "execution_count": 5,
     "metadata": {},
     "output_type": "execute_result"
    }
   ],
   "source": [
    "members"
   ]
  },
  {
   "cell_type": "markdown",
   "id": "524dcd24",
   "metadata": {},
   "source": [
    "#### Lets shuffle the members in the list to have the ramdomnes using the random library\n",
    "\n",
    "* https://www.geeksforgeeks.org/python-ways-to-shuffle-a-list/\n",
    "* https://stackoverflow.com/questions/22695171/print-list-elements-line-by-line-is-it-possible-using-format\n",
    "* https://melaniewalsh.github.io/Intro-Cultural-Analytics/02-Python/EXTRA-Randomize-Students.html"
   ]
  },
  {
   "cell_type": "markdown",
   "id": "42fc6755",
   "metadata": {},
   "source": [
    "#### Get the first column for creating the teams and for simplification"
   ]
  },
  {
   "cell_type": "code",
   "execution_count": 6,
   "id": "0004ca1d",
   "metadata": {},
   "outputs": [],
   "source": [
    "members_list = [item[0] for item in members]"
   ]
  },
  {
   "cell_type": "code",
   "execution_count": 7,
   "id": "a34270aa",
   "metadata": {},
   "outputs": [
    {
     "data": {
      "text/plain": [
       "['Annamalai', 'Arasikere Rakesh', 'Budavi', 'Darandale', 'Doerr']"
      ]
     },
     "execution_count": 7,
     "metadata": {},
     "output_type": "execute_result"
    }
   ],
   "source": [
    "#displaying the first five members\n",
    "members_list[:5]"
   ]
  },
  {
   "cell_type": "code",
   "execution_count": 8,
   "id": "d3de3b5b",
   "metadata": {},
   "outputs": [
    {
     "name": "stdout",
     "output_type": "stream",
     "text": [
      "Annamalai\n",
      "Arasikere Rakesh\n",
      "Budavi\n",
      "Darandale\n",
      "Doerr\n",
      "Farahani\n",
      "Gabbula\n",
      "Gabbula\n",
      "Gunde\n",
      "Kallem\n",
      "Kuluri\n",
      "Nimmaturi\n",
      "Potlapally\n",
      "Shah\n",
      "Shou\n",
      "Veeramaneni\n",
      "Vidapu\n",
      "Abisiga\n",
      "Gayam\n",
      "Havalchi\n",
      "Nezianya\n",
      "Patil\n",
      "Teri\n"
     ]
    }
   ],
   "source": [
    "#displaying members list by newline  for visual presentation and easy reading\n",
    "for item in members_list:\n",
    "    # use string formatting for each item\n",
    "    print('{}'.format(item))"
   ]
  },
  {
   "cell_type": "markdown",
   "id": "d0606886",
   "metadata": {},
   "source": [
    "## Method 1 :  Consider this code for grading , the rest others are trial and incase I mess the method 1 and is not upto the expectation."
   ]
  },
  {
   "cell_type": "markdown",
   "id": "87314f61",
   "metadata": {},
   "source": [
    "# Iterating the list and and randomly generating the teams\n",
    "    * https://www.youtube.com/watch?v=zYeimIurN9s\n",
    "    * https://melaniewalsh.github.io/Intro-Cultural-Analytics/02-Python/EXTRA-Randomize-Students.html"
   ]
  },
  {
   "cell_type": "markdown",
   "id": "51753484",
   "metadata": {},
   "source": [
    "#### creating a function to generate the random teams using list to store the elements\n",
    "\n"
   ]
  },
  {
   "cell_type": "code",
   "execution_count": 9,
   "id": "2e9b9c74",
   "metadata": {},
   "outputs": [],
   "source": [
    "def create_random_teams(members_list, team_size):\n",
    "    \n",
    "    #Shuffle list of members\n",
    "    random.shuffle(members_list)\n",
    "    \n",
    "    #Create groups\n",
    "    all_teams = []\n",
    "    #loop through the elements until team_size and append the elements to the created list\n",
    "    for index in range(team_size):\n",
    "        teams = members_list[index::team_size]\n",
    "        all_teams.append(teams)\n",
    "    \n",
    "    \n",
    "    #Format and display the groups by using enumerate\n",
    "    for index, group in enumerate(all_teams):\n",
    "        print(f\"Group {index+1}: {','.join(group)}\\n\")"
   ]
  },
  {
   "cell_type": "markdown",
   "id": "c3cead30",
   "metadata": {},
   "source": [
    "#### Enter the teamsize as an input and let the code do the addition of group members to the team"
   ]
  },
  {
   "cell_type": "code",
   "execution_count": 10,
   "id": "cef1cef1",
   "metadata": {},
   "outputs": [
    {
     "name": "stdout",
     "output_type": "stream",
     "text": [
      "Enter the Team size:- 5\n",
      "\n",
      "\n",
      "Group 1: Abisiga,Gabbula,Teri,Havalchi,Doerr\n",
      "\n",
      "Group 2: Potlapally,Kuluri,Shah,Gunde,Darandale\n",
      "\n",
      "Group 3: Shou,Farahani,Veeramaneni,Nezianya,Arasikere Rakesh\n",
      "\n",
      "Group 4: Annamalai,Vidapu,Budavi,Nimmaturi\n",
      "\n",
      "Group 5: Gabbula,Kallem,Gayam,Patil\n",
      "\n"
     ]
    }
   ],
   "source": [
    "#Enter the teamsize as an input\n",
    "team_size = int(input(\"Enter the Team size:- \"))\n",
    "print(\"\\n\")\n",
    "\n",
    "#Function call\n",
    "create_random_teams(members_list, team_size)"
   ]
  },
  {
   "cell_type": "markdown",
   "id": "7c3c2c60",
   "metadata": {},
   "source": [
    "## Method 2: "
   ]
  },
  {
   "cell_type": "markdown",
   "id": "fa8e45a5",
   "metadata": {},
   "source": [
    "### With less line of code, create a random team"
   ]
  },
  {
   "cell_type": "markdown",
   "id": "cf47a29f",
   "metadata": {},
   "source": [
    "* https://stackoverflow.com/questions/25565288/using-random-in-pythons-list-comprehension\n",
    "\n",
    "* For this task I am using  random.sample() which returns randomly selected elements from the specified list by forming the group of specified group size. Along with that I am trying to use list comprehension which is executed for each element along with the for loop to iterate over each element in the Python list\n",
    "* I am joining the member by using the delimiter  ' , '  to seperate out the members and form a group"
   ]
  },
  {
   "cell_type": "code",
   "execution_count": 11,
   "id": "c83cc18e",
   "metadata": {},
   "outputs": [
    {
     "name": "stdout",
     "output_type": "stream",
     "text": [
      "Enter the Team size:- 5\n",
      "Enter the Group size:- 4\n"
     ]
    }
   ],
   "source": [
    "#Enter the teamsize as an input\n",
    "teamnumbers = int(input(\"Enter the Team size:- \"))\n",
    "\n",
    "#Enter the group size\n",
    "group_size = int(input(\"Enter the Group size:- \"))"
   ]
  },
  {
   "cell_type": "markdown",
   "id": "2b2eb5e5",
   "metadata": {},
   "source": [
    "### The below code creates mentioned teams size and group size forming the teams"
   ]
  },
  {
   "cell_type": "code",
   "execution_count": 12,
   "id": "dac15931",
   "metadata": {},
   "outputs": [
    {
     "name": "stdout",
     "output_type": "stream",
     "text": [
      "Team No: 1\n",
      "Gabbula,Potlapally,Farahani,Shou\n",
      "\n",
      "\n",
      "Team No: 2\n",
      "Kuluri,Nezianya,Gabbula,Shah\n",
      "\n",
      "\n",
      "Team No: 3\n",
      "Gunde,Veeramaneni,Vidapu,Farahani\n",
      "\n",
      "\n",
      "Team No: 4\n",
      "Arasikere Rakesh,Gunde,Shah,Veeramaneni\n",
      "\n",
      "\n",
      "Team No: 5\n",
      "Shou,Abisiga,Nezianya,Potlapally\n",
      "\n",
      "\n"
     ]
    }
   ],
   "source": [
    "i = 1\n",
    "\n",
    "teams  = [\",\".join(random.sample(members_list , group_size)) for _ in range(teamnumbers)]\n",
    "for team_members in teams:\n",
    "    print(\"Team No:\" , i)\n",
    "    print(team_members)\n",
    "    print(\"\\n\")\n",
    "    i = i + 1"
   ]
  },
  {
   "cell_type": "markdown",
   "id": "d407dd47",
   "metadata": {},
   "source": [
    "## Method 3:"
   ]
  },
  {
   "cell_type": "markdown",
   "id": "0a62d393",
   "metadata": {},
   "source": [
    "#### Another way of creating team members would be by :\n",
    "\n",
    "   * Trying to create teams with the specified group size and team size\n",
    "   * when the group size and team size exceeds, creates new teams and the team size is greater than the mentioned input\n"
   ]
  },
  {
   "cell_type": "code",
   "execution_count": 13,
   "id": "c63d328e",
   "metadata": {},
   "outputs": [
    {
     "name": "stdout",
     "output_type": "stream",
     "text": [
      "Team 0\n",
      "['Abisiga', 'Potlapally', 'Shou', 'Annamalai', 'Doerr']\n",
      "\n",
      "\n",
      "Team 1\n",
      "['Gabbula', 'Kuluri', 'Farahani', 'Vidapu', 'Darandale']\n",
      "\n",
      "\n",
      "Team 2\n",
      "['Teri', 'Shah', 'Veeramaneni', 'Budavi', 'Arasikere Rakesh', 'Darandale']\n",
      "\n",
      "\n",
      "Team 3\n",
      "['Havalchi', 'Gunde', 'Nezianya', 'Nimmaturi', 'Doerr']\n",
      "\n",
      "\n",
      "Team 4\n",
      "['Teri', 'Shah', 'Veeramaneni', 'Budavi', 'Arasikere Rakesh', 'Darandale']\n",
      "\n",
      "\n",
      "Team 5\n",
      "['Potlapally', 'Shou', 'Annamalai', 'Gabbula', 'Arasikere Rakesh']\n",
      "\n",
      "\n",
      "Team 6\n",
      "['Kuluri', 'Farahani', 'Vidapu', 'Kallem']\n",
      "\n",
      "\n",
      "Team 7\n",
      "['Shah', 'Veeramaneni', 'Budavi', 'Gayam']\n",
      "\n",
      "\n"
     ]
    }
   ],
   "source": [
    "#Create a dictionary \n",
    "group_member_list = dict() \n",
    "\n",
    "\n",
    "team_list_new = []\n",
    "arr_len  = len(members_list)\n",
    "\n",
    "k = 0\n",
    "z = 0\n",
    "\n",
    "#calculating the total members which are ready to form exact team number\n",
    "y= arr_len - (arr_len % teamnumbers)\n",
    "\n",
    "while k<= teamnumbers:\n",
    "    for x in range(arr_len):\n",
    "        # adds all the remaining members to each group\n",
    "        if x >= y:\n",
    "            team_list_new = group_member_list[z]\n",
    "            team_list_new.append(members_list[x])\n",
    "            group_member_list[z] = team_list_new\n",
    "            z=z+1\n",
    "            \n",
    "        # creating team with group size\n",
    "        elif len(team_list_new) < group_size:\n",
    "            team_list_new.append(members_list[x])\n",
    "            \n",
    "        # adds the created group to team list\n",
    "        else:\n",
    "            group_member_list[k] = team_list_new\n",
    "            k = k + 1   \n",
    "            team_list_new = []\n",
    "\n",
    "for team_no,team_members in group_member_list.items():\n",
    "    print(\"Team\", team_no)\n",
    "    print(team_members)\n",
    "    print(\"\\n\")"
   ]
  }
 ],
 "metadata": {
  "kernelspec": {
   "display_name": "Python 3 (ipykernel)",
   "language": "python",
   "name": "python3"
  },
  "language_info": {
   "codemirror_mode": {
    "name": "ipython",
    "version": 3
   },
   "file_extension": ".py",
   "mimetype": "text/x-python",
   "name": "python",
   "nbconvert_exporter": "python",
   "pygments_lexer": "ipython3",
   "version": "3.9.7"
  }
 },
 "nbformat": 4,
 "nbformat_minor": 5
}
