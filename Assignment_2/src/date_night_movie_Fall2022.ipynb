{
 "cells": [
  {
   "cell_type": "markdown",
   "metadata": {},
   "source": [
    "# Date Night Movie\n",
    "\n",
    "#### Grading:\n",
    "\n",
    "\n",
    "- Code: 90 pts\n",
    "- Markdown Documentation: 10 pts\n"
   ]
  },
  {
   "cell_type": "markdown",
   "metadata": {},
   "source": [
    "In this assignment we are going to use pandas to figure out - What's the best **date-night movie**?\n",
    "\n",
    "This assignment is going to use\n",
    "- Joining\n",
    "- Groupby\n",
    "- Sorting\n"
   ]
  },
  {
   "cell_type": "code",
   "execution_count": 1,
   "metadata": {},
   "outputs": [],
   "source": [
    "import os\n",
    "import pandas as pd"
   ]
  },
  {
   "cell_type": "markdown",
   "metadata": {},
   "source": [
    "##### Read in the movie data: `pd.read_table`"
   ]
  },
  {
   "cell_type": "code",
   "execution_count": 2,
   "metadata": {},
   "outputs": [],
   "source": [
    "def get_movie_data():\n",
    "    \n",
    "    unames = ['user_id','gender','age','occupation','zip']\n",
    "    users = pd.read_table(os.path.join('../data','users.dat'), \n",
    "                          sep='::', header=None, names=unames, encoding=\"ISO-8859-1\")\n",
    "    \n",
    "    rnames = ['user_id', 'movie_id', 'rating', 'timestamp']\n",
    "    ratings = pd.read_table(os.path.join('../data', 'ratings.dat'), \n",
    "                            sep='::', header=None, names=rnames , encoding=\"ISO-8859-1\")\n",
    "    \n",
    "    mnames = ['movie_id', 'title','genres']\n",
    "    movies = pd.read_table(os.path.join('../data', 'movies.dat'), \n",
    "                           sep='::', header=None, names=mnames , encoding=\"ISO-8859-1\")\n",
    "\n",
    "    return users, ratings, movies"
   ]
  },
  {
   "cell_type": "code",
   "execution_count": 3,
   "metadata": {},
   "outputs": [
    {
     "name": "stderr",
     "output_type": "stream",
     "text": [
      "C:\\Users\\p_bud\\AppData\\Local\\Temp/ipykernel_2944/1537425519.py:4: ParserWarning: Falling back to the 'python' engine because the 'c' engine does not support regex separators (separators > 1 char and different from '\\s+' are interpreted as regex); you can avoid this warning by specifying engine='python'.\n",
      "  users = pd.read_table(os.path.join('../data','users.dat'),\n",
      "C:\\Users\\p_bud\\AppData\\Local\\Temp/ipykernel_2944/1537425519.py:8: ParserWarning: Falling back to the 'python' engine because the 'c' engine does not support regex separators (separators > 1 char and different from '\\s+' are interpreted as regex); you can avoid this warning by specifying engine='python'.\n",
      "  ratings = pd.read_table(os.path.join('../data', 'ratings.dat'),\n",
      "C:\\Users\\p_bud\\AppData\\Local\\Temp/ipykernel_2944/1537425519.py:12: ParserWarning: Falling back to the 'python' engine because the 'c' engine does not support regex separators (separators > 1 char and different from '\\s+' are interpreted as regex); you can avoid this warning by specifying engine='python'.\n",
      "  movies = pd.read_table(os.path.join('../data', 'movies.dat'),\n"
     ]
    }
   ],
   "source": [
    "users, ratings, movies = get_movie_data()"
   ]
  },
  {
   "cell_type": "code",
   "execution_count": 4,
   "metadata": {},
   "outputs": [
    {
     "name": "stdout",
     "output_type": "stream",
     "text": [
      "   user_id gender  age  occupation    zip\n",
      "0        1      F    1          10  48067\n",
      "1        2      M   56          16  70072\n",
      "2        3      M   25          15  55117\n",
      "3        4      M   45           7  02460\n",
      "4        5      M   25          20  55455\n"
     ]
    }
   ],
   "source": [
    "print(users.head())"
   ]
  },
  {
   "cell_type": "code",
   "execution_count": 5,
   "metadata": {},
   "outputs": [
    {
     "name": "stdout",
     "output_type": "stream",
     "text": [
      "   user_id  movie_id  rating  timestamp\n",
      "0        1      1193       5  978300760\n",
      "1        1       661       3  978302109\n",
      "2        1       914       3  978301968\n",
      "3        1      3408       4  978300275\n",
      "4        1      2355       5  978824291\n"
     ]
    }
   ],
   "source": [
    "print(ratings.head())"
   ]
  },
  {
   "cell_type": "code",
   "execution_count": 6,
   "metadata": {},
   "outputs": [
    {
     "name": "stdout",
     "output_type": "stream",
     "text": [
      "   movie_id                               title                        genres\n",
      "0         1                    Toy Story (1995)   Animation|Children's|Comedy\n",
      "1         2                      Jumanji (1995)  Adventure|Children's|Fantasy\n",
      "2         3             Grumpier Old Men (1995)                Comedy|Romance\n",
      "3         4            Waiting to Exhale (1995)                  Comedy|Drama\n",
      "4         5  Father of the Bride Part II (1995)                        Comedy\n"
     ]
    }
   ],
   "source": [
    "print(movies.head())"
   ]
  },
  {
   "cell_type": "markdown",
   "metadata": {},
   "source": [
    "##### Clean up the `movies`\n",
    "\n",
    "- Get the `year`\n",
    "- Shorten the `title`\n"
   ]
  },
  {
   "cell_type": "code",
   "execution_count": 7,
   "metadata": {},
   "outputs": [
    {
     "data": {
      "text/plain": [
       "0    Toy Story\n",
       "1         1995\n",
       "dtype: object"
      ]
     },
     "execution_count": 7,
     "metadata": {},
     "output_type": "execute_result"
    }
   ],
   "source": [
    "tmp = movies.title.str.extract('(.*) \\(([0-9]+)\\)')\n",
    "tmp.apply(lambda x:x[0] if len(x) > 0 else None)\n",
    "tmp.apply(lambda x: x[0][:40] if len(x) > 0 else None)"
   ]
  },
  {
   "cell_type": "code",
   "execution_count": 8,
   "metadata": {},
   "outputs": [],
   "source": [
    "movies['year'] = tmp[1]\n",
    "movies['short_title'] = tmp[0]"
   ]
  },
  {
   "cell_type": "code",
   "execution_count": 9,
   "metadata": {},
   "outputs": [
    {
     "name": "stdout",
     "output_type": "stream",
     "text": [
      "   movie_id                               title                        genres  \\\n",
      "0         1                    Toy Story (1995)   Animation|Children's|Comedy   \n",
      "1         2                      Jumanji (1995)  Adventure|Children's|Fantasy   \n",
      "2         3             Grumpier Old Men (1995)                Comedy|Romance   \n",
      "3         4            Waiting to Exhale (1995)                  Comedy|Drama   \n",
      "4         5  Father of the Bride Part II (1995)                        Comedy   \n",
      "\n",
      "   year                  short_title  \n",
      "0  1995                    Toy Story  \n",
      "1  1995                      Jumanji  \n",
      "2  1995             Grumpier Old Men  \n",
      "3  1995            Waiting to Exhale  \n",
      "4  1995  Father of the Bride Part II  \n"
     ]
    }
   ],
   "source": [
    "print(movies.head())"
   ]
  },
  {
   "cell_type": "markdown",
   "metadata": {},
   "source": [
    "##### Join the tables with `pd.merge` (20 pts)"
   ]
  },
  {
   "cell_type": "markdown",
   "metadata": {},
   "source": [
    "* For this task I will use merge() function to merge all the three tables that is users , ratings and movies. I will merge \n",
    "  users and ratings table first and then merge the movies table. "
   ]
  },
  {
   "cell_type": "code",
   "execution_count": 10,
   "metadata": {},
   "outputs": [
    {
     "data": {
      "text/plain": [
       "((6040, 5), (1000209, 4), (3883, 5))"
      ]
     },
     "execution_count": 10,
     "metadata": {},
     "output_type": "execute_result"
    }
   ],
   "source": [
    "#checking the shape of the tables\n",
    "users.shape , ratings.shape , movies.shape"
   ]
  },
  {
   "cell_type": "markdown",
   "metadata": {},
   "source": [
    "* Since user_id is common variable between users and ratings I will perform inner merge using user_id. "
   ]
  },
  {
   "cell_type": "code",
   "execution_count": 11,
   "metadata": {},
   "outputs": [],
   "source": [
    "user_rating_table_merge = pd.merge(users , ratings, on = 'user_id')"
   ]
  },
  {
   "cell_type": "code",
   "execution_count": 12,
   "metadata": {},
   "outputs": [
    {
     "data": {
      "text/plain": [
       "(1000209, 8)"
      ]
     },
     "execution_count": 12,
     "metadata": {},
     "output_type": "execute_result"
    }
   ],
   "source": [
    "user_rating_table_merge.shape"
   ]
  },
  {
   "cell_type": "markdown",
   "metadata": {},
   "source": [
    "* Now merge the movies table with the above created table. But before that check the common variables in both tables. \n",
    "* Below we see that movie_id is common to both tables i.e  user_rating_table_merge and movies , so I perform inner merge on movie_id"
   ]
  },
  {
   "cell_type": "code",
   "execution_count": 13,
   "metadata": {},
   "outputs": [
    {
     "data": {
      "text/plain": [
       "Index(['user_id', 'gender', 'age', 'occupation', 'zip', 'movie_id', 'rating',\n",
       "       'timestamp'],\n",
       "      dtype='object')"
      ]
     },
     "execution_count": 13,
     "metadata": {},
     "output_type": "execute_result"
    }
   ],
   "source": [
    "user_rating_table_merge.columns"
   ]
  },
  {
   "cell_type": "code",
   "execution_count": 14,
   "metadata": {},
   "outputs": [
    {
     "data": {
      "text/plain": [
       "Index(['movie_id', 'title', 'genres', 'year', 'short_title'], dtype='object')"
      ]
     },
     "execution_count": 14,
     "metadata": {},
     "output_type": "execute_result"
    }
   ],
   "source": [
    "movies.columns"
   ]
  },
  {
   "cell_type": "code",
   "execution_count": 15,
   "metadata": {},
   "outputs": [],
   "source": [
    "user_rating_movies_table_merge = pd.merge(user_rating_table_merge , movies, on = 'movie_id')"
   ]
  },
  {
   "cell_type": "code",
   "execution_count": 16,
   "metadata": {},
   "outputs": [
    {
     "data": {
      "text/plain": [
       "(1000209, 12)"
      ]
     },
     "execution_count": 16,
     "metadata": {},
     "output_type": "execute_result"
    }
   ],
   "source": [
    "user_rating_movies_table_merge.shape"
   ]
  },
  {
   "cell_type": "markdown",
   "metadata": {},
   "source": [
    "#### Lets check for null values by using isnull() and summing them to get column wise information."
   ]
  },
  {
   "cell_type": "code",
   "execution_count": 17,
   "metadata": {},
   "outputs": [
    {
     "data": {
      "text/plain": [
       "user_id        0\n",
       "gender         0\n",
       "age            0\n",
       "occupation     0\n",
       "zip            0\n",
       "movie_id       0\n",
       "rating         0\n",
       "timestamp      0\n",
       "title          0\n",
       "genres         0\n",
       "year           0\n",
       "short_title    0\n",
       "dtype: int64"
      ]
     },
     "execution_count": 17,
     "metadata": {},
     "output_type": "execute_result"
    }
   ],
   "source": [
    "user_rating_movies_table_merge.isnull().sum()"
   ]
  },
  {
   "cell_type": "markdown",
   "metadata": {},
   "source": [
    "#### Drop Duplicates and check for the shape of the data. "
   ]
  },
  {
   "cell_type": "code",
   "execution_count": 18,
   "metadata": {},
   "outputs": [
    {
     "data": {
      "text/plain": [
       "(1000209, 12)"
      ]
     },
     "execution_count": 18,
     "metadata": {},
     "output_type": "execute_result"
    }
   ],
   "source": [
    "#droping duplicates\n",
    "user_rating_movies_table_merge.drop_duplicates().shape"
   ]
  },
  {
   "cell_type": "markdown",
   "metadata": {},
   "source": [
    "#### There are no null values and now the data is clean to perform the below tasks"
   ]
  },
  {
   "cell_type": "markdown",
   "metadata": {},
   "source": [
    "##### What's the highest rated movie? (20 pts))"
   ]
  },
  {
   "cell_type": "code",
   "execution_count": 19,
   "metadata": {},
   "outputs": [
    {
     "data": {
      "text/html": [
       "<div>\n",
       "<style scoped>\n",
       "    .dataframe tbody tr th:only-of-type {\n",
       "        vertical-align: middle;\n",
       "    }\n",
       "\n",
       "    .dataframe tbody tr th {\n",
       "        vertical-align: top;\n",
       "    }\n",
       "\n",
       "    .dataframe thead th {\n",
       "        text-align: right;\n",
       "    }\n",
       "</style>\n",
       "<table border=\"1\" class=\"dataframe\">\n",
       "  <thead>\n",
       "    <tr style=\"text-align: right;\">\n",
       "      <th></th>\n",
       "      <th>user_id</th>\n",
       "      <th>gender</th>\n",
       "      <th>age</th>\n",
       "      <th>occupation</th>\n",
       "      <th>zip</th>\n",
       "      <th>movie_id</th>\n",
       "      <th>rating</th>\n",
       "      <th>timestamp</th>\n",
       "      <th>title</th>\n",
       "      <th>genres</th>\n",
       "      <th>year</th>\n",
       "      <th>short_title</th>\n",
       "    </tr>\n",
       "  </thead>\n",
       "  <tbody>\n",
       "    <tr>\n",
       "      <th>0</th>\n",
       "      <td>1</td>\n",
       "      <td>F</td>\n",
       "      <td>1</td>\n",
       "      <td>10</td>\n",
       "      <td>48067</td>\n",
       "      <td>1193</td>\n",
       "      <td>5</td>\n",
       "      <td>978300760</td>\n",
       "      <td>One Flew Over the Cuckoo's Nest (1975)</td>\n",
       "      <td>Drama</td>\n",
       "      <td>1975</td>\n",
       "      <td>One Flew Over the Cuckoo's Nest</td>\n",
       "    </tr>\n",
       "    <tr>\n",
       "      <th>1</th>\n",
       "      <td>2</td>\n",
       "      <td>M</td>\n",
       "      <td>56</td>\n",
       "      <td>16</td>\n",
       "      <td>70072</td>\n",
       "      <td>1193</td>\n",
       "      <td>5</td>\n",
       "      <td>978298413</td>\n",
       "      <td>One Flew Over the Cuckoo's Nest (1975)</td>\n",
       "      <td>Drama</td>\n",
       "      <td>1975</td>\n",
       "      <td>One Flew Over the Cuckoo's Nest</td>\n",
       "    </tr>\n",
       "    <tr>\n",
       "      <th>2</th>\n",
       "      <td>12</td>\n",
       "      <td>M</td>\n",
       "      <td>25</td>\n",
       "      <td>12</td>\n",
       "      <td>32793</td>\n",
       "      <td>1193</td>\n",
       "      <td>4</td>\n",
       "      <td>978220179</td>\n",
       "      <td>One Flew Over the Cuckoo's Nest (1975)</td>\n",
       "      <td>Drama</td>\n",
       "      <td>1975</td>\n",
       "      <td>One Flew Over the Cuckoo's Nest</td>\n",
       "    </tr>\n",
       "    <tr>\n",
       "      <th>3</th>\n",
       "      <td>15</td>\n",
       "      <td>M</td>\n",
       "      <td>25</td>\n",
       "      <td>7</td>\n",
       "      <td>22903</td>\n",
       "      <td>1193</td>\n",
       "      <td>4</td>\n",
       "      <td>978199279</td>\n",
       "      <td>One Flew Over the Cuckoo's Nest (1975)</td>\n",
       "      <td>Drama</td>\n",
       "      <td>1975</td>\n",
       "      <td>One Flew Over the Cuckoo's Nest</td>\n",
       "    </tr>\n",
       "    <tr>\n",
       "      <th>4</th>\n",
       "      <td>17</td>\n",
       "      <td>M</td>\n",
       "      <td>50</td>\n",
       "      <td>1</td>\n",
       "      <td>95350</td>\n",
       "      <td>1193</td>\n",
       "      <td>5</td>\n",
       "      <td>978158471</td>\n",
       "      <td>One Flew Over the Cuckoo's Nest (1975)</td>\n",
       "      <td>Drama</td>\n",
       "      <td>1975</td>\n",
       "      <td>One Flew Over the Cuckoo's Nest</td>\n",
       "    </tr>\n",
       "  </tbody>\n",
       "</table>\n",
       "</div>"
      ],
      "text/plain": [
       "   user_id gender  age  occupation    zip  movie_id  rating  timestamp  \\\n",
       "0        1      F    1          10  48067      1193       5  978300760   \n",
       "1        2      M   56          16  70072      1193       5  978298413   \n",
       "2       12      M   25          12  32793      1193       4  978220179   \n",
       "3       15      M   25           7  22903      1193       4  978199279   \n",
       "4       17      M   50           1  95350      1193       5  978158471   \n",
       "\n",
       "                                    title genres  year  \\\n",
       "0  One Flew Over the Cuckoo's Nest (1975)  Drama  1975   \n",
       "1  One Flew Over the Cuckoo's Nest (1975)  Drama  1975   \n",
       "2  One Flew Over the Cuckoo's Nest (1975)  Drama  1975   \n",
       "3  One Flew Over the Cuckoo's Nest (1975)  Drama  1975   \n",
       "4  One Flew Over the Cuckoo's Nest (1975)  Drama  1975   \n",
       "\n",
       "                       short_title  \n",
       "0  One Flew Over the Cuckoo's Nest  \n",
       "1  One Flew Over the Cuckoo's Nest  \n",
       "2  One Flew Over the Cuckoo's Nest  \n",
       "3  One Flew Over the Cuckoo's Nest  \n",
       "4  One Flew Over the Cuckoo's Nest  "
      ]
     },
     "execution_count": 19,
     "metadata": {},
     "output_type": "execute_result"
    }
   ],
   "source": [
    "user_rating_movies_table_merge.head()"
   ]
  },
  {
   "cell_type": "markdown",
   "metadata": {},
   "source": [
    "#### checking for rating range"
   ]
  },
  {
   "cell_type": "code",
   "execution_count": 20,
   "metadata": {},
   "outputs": [
    {
     "data": {
      "text/plain": [
       "array([5, 4, 3, 2, 1], dtype=int64)"
      ]
     },
     "execution_count": 20,
     "metadata": {},
     "output_type": "execute_result"
    }
   ],
   "source": [
    "user_rating_movies_table_merge.rating.unique()"
   ]
  },
  {
   "cell_type": "markdown",
   "metadata": {},
   "source": [
    "#### For this task , I will group by movie_id and title"
   ]
  },
  {
   "cell_type": "code",
   "execution_count": 21,
   "metadata": {},
   "outputs": [],
   "source": [
    "grouped_data = user_rating_movies_table_merge.groupby(['movie_id' ,'title'])"
   ]
  },
  {
   "cell_type": "code",
   "execution_count": 22,
   "metadata": {},
   "outputs": [
    {
     "data": {
      "text/plain": [
       "<pandas.core.groupby.generic.DataFrameGroupBy object at 0x000001CBAE2907F0>"
      ]
     },
     "execution_count": 22,
     "metadata": {},
     "output_type": "execute_result"
    }
   ],
   "source": [
    "grouped_data"
   ]
  },
  {
   "cell_type": "markdown",
   "metadata": {},
   "source": [
    "#### I am counting the user ID as each movie is associated with user_id and rating so when we group by movie_id we also need to count how many users rated for that movie. That gives a total votes for that rating.\n",
    "\n",
    "    * https://pandas.pydata.org/docs/reference/api/pandas.DataFrame.agg.html"
   ]
  },
  {
   "cell_type": "code",
   "execution_count": 23,
   "metadata": {},
   "outputs": [],
   "source": [
    "grouped_data = grouped_data.agg({'user_id': 'count','rating':'mean'}).reset_index()"
   ]
  },
  {
   "cell_type": "code",
   "execution_count": null,
   "metadata": {},
   "outputs": [],
   "source": [
    "grouped_data = grouped_data.rename(columns = {'user_id' : 'total_votes_count'})"
   ]
  },
  {
   "cell_type": "code",
   "execution_count": 24,
   "metadata": {},
   "outputs": [
    {
     "data": {
      "text/html": [
       "<div>\n",
       "<style scoped>\n",
       "    .dataframe tbody tr th:only-of-type {\n",
       "        vertical-align: middle;\n",
       "    }\n",
       "\n",
       "    .dataframe tbody tr th {\n",
       "        vertical-align: top;\n",
       "    }\n",
       "\n",
       "    .dataframe thead th {\n",
       "        text-align: right;\n",
       "    }\n",
       "</style>\n",
       "<table border=\"1\" class=\"dataframe\">\n",
       "  <thead>\n",
       "    <tr style=\"text-align: right;\">\n",
       "      <th></th>\n",
       "      <th>movie_id</th>\n",
       "      <th>title</th>\n",
       "      <th>total_votes_count</th>\n",
       "      <th>rating</th>\n",
       "    </tr>\n",
       "  </thead>\n",
       "  <tbody>\n",
       "    <tr>\n",
       "      <th>0</th>\n",
       "      <td>1</td>\n",
       "      <td>Toy Story (1995)</td>\n",
       "      <td>2077</td>\n",
       "      <td>4.146846</td>\n",
       "    </tr>\n",
       "    <tr>\n",
       "      <th>1</th>\n",
       "      <td>2</td>\n",
       "      <td>Jumanji (1995)</td>\n",
       "      <td>701</td>\n",
       "      <td>3.201141</td>\n",
       "    </tr>\n",
       "    <tr>\n",
       "      <th>2</th>\n",
       "      <td>3</td>\n",
       "      <td>Grumpier Old Men (1995)</td>\n",
       "      <td>478</td>\n",
       "      <td>3.016736</td>\n",
       "    </tr>\n",
       "    <tr>\n",
       "      <th>3</th>\n",
       "      <td>4</td>\n",
       "      <td>Waiting to Exhale (1995)</td>\n",
       "      <td>170</td>\n",
       "      <td>2.729412</td>\n",
       "    </tr>\n",
       "    <tr>\n",
       "      <th>4</th>\n",
       "      <td>5</td>\n",
       "      <td>Father of the Bride Part II (1995)</td>\n",
       "      <td>296</td>\n",
       "      <td>3.006757</td>\n",
       "    </tr>\n",
       "    <tr>\n",
       "      <th>...</th>\n",
       "      <td>...</td>\n",
       "      <td>...</td>\n",
       "      <td>...</td>\n",
       "      <td>...</td>\n",
       "    </tr>\n",
       "    <tr>\n",
       "      <th>3701</th>\n",
       "      <td>3948</td>\n",
       "      <td>Meet the Parents (2000)</td>\n",
       "      <td>862</td>\n",
       "      <td>3.635731</td>\n",
       "    </tr>\n",
       "    <tr>\n",
       "      <th>3702</th>\n",
       "      <td>3949</td>\n",
       "      <td>Requiem for a Dream (2000)</td>\n",
       "      <td>304</td>\n",
       "      <td>4.115132</td>\n",
       "    </tr>\n",
       "    <tr>\n",
       "      <th>3703</th>\n",
       "      <td>3950</td>\n",
       "      <td>Tigerland (2000)</td>\n",
       "      <td>54</td>\n",
       "      <td>3.666667</td>\n",
       "    </tr>\n",
       "    <tr>\n",
       "      <th>3704</th>\n",
       "      <td>3951</td>\n",
       "      <td>Two Family House (2000)</td>\n",
       "      <td>40</td>\n",
       "      <td>3.900000</td>\n",
       "    </tr>\n",
       "    <tr>\n",
       "      <th>3705</th>\n",
       "      <td>3952</td>\n",
       "      <td>Contender, The (2000)</td>\n",
       "      <td>388</td>\n",
       "      <td>3.780928</td>\n",
       "    </tr>\n",
       "  </tbody>\n",
       "</table>\n",
       "<p>3706 rows × 4 columns</p>\n",
       "</div>"
      ],
      "text/plain": [
       "      movie_id                               title  total_votes_count  \\\n",
       "0            1                    Toy Story (1995)               2077   \n",
       "1            2                      Jumanji (1995)                701   \n",
       "2            3             Grumpier Old Men (1995)                478   \n",
       "3            4            Waiting to Exhale (1995)                170   \n",
       "4            5  Father of the Bride Part II (1995)                296   \n",
       "...        ...                                 ...                ...   \n",
       "3701      3948             Meet the Parents (2000)                862   \n",
       "3702      3949          Requiem for a Dream (2000)                304   \n",
       "3703      3950                    Tigerland (2000)                 54   \n",
       "3704      3951             Two Family House (2000)                 40   \n",
       "3705      3952               Contender, The (2000)                388   \n",
       "\n",
       "        rating  \n",
       "0     4.146846  \n",
       "1     3.201141  \n",
       "2     3.016736  \n",
       "3     2.729412  \n",
       "4     3.006757  \n",
       "...        ...  \n",
       "3701  3.635731  \n",
       "3702  4.115132  \n",
       "3703  3.666667  \n",
       "3704  3.900000  \n",
       "3705  3.780928  \n",
       "\n",
       "[3706 rows x 4 columns]"
      ]
     },
     "execution_count": 24,
     "metadata": {},
     "output_type": "execute_result"
    }
   ],
   "source": [
    "grouped_data"
   ]
  },
  {
   "cell_type": "markdown",
   "metadata": {},
   "source": [
    "### The highest rated movie can be either by ratings alone or by ratings and the no of votes given to the movie which is nothing but the total_users.\n",
    "* But only by rating is not a good idea to get the highest rated movie. This is because if a movie has 5 rating and there are only 10 votes doesnt mean that the movie is the best. For this reason I calculated the minimum votes a movie should have. For this task I used quartile method and tried to get the votes between the 3rd and 1st quartile. I took this idea from the notes and got the minvotes from the data. \n",
    "\n",
    "    * https://github.com/UNCG-CSE/CSC-605_Fall_2022/blob/main/Class_Resources/Lecture_06/Statistics/01_Stats_Basics.ipynb\n",
    "    * https://www.statology.org/and-operator-in-pandas/"
   ]
  },
  {
   "cell_type": "code",
   "execution_count": 25,
   "metadata": {},
   "outputs": [
    {
     "name": "stdout",
     "output_type": "stream",
     "text": [
      "3.238892177910887\n"
     ]
    }
   ],
   "source": [
    "mean_rating = grouped_data.rating.mean()\n",
    "print(mean_rating)"
   ]
  },
  {
   "cell_type": "code",
   "execution_count": 26,
   "metadata": {},
   "outputs": [],
   "source": [
    "minvotes = grouped_data[\"total_votes_count\"].quantile(0.75) - grouped_data[\"total_votes_count\"].quantile(0.25)"
   ]
  },
  {
   "cell_type": "code",
   "execution_count": 27,
   "metadata": {},
   "outputs": [
    {
     "data": {
      "text/plain": [
       "317.0"
      ]
     },
     "execution_count": 27,
     "metadata": {},
     "output_type": "execute_result"
    }
   ],
   "source": [
    "minvotes"
   ]
  },
  {
   "cell_type": "markdown",
   "metadata": {},
   "source": [
    "Now create a new dataframe with rating being greater than mean and total_votes for a movie being greater than minvotes. Then sort the ratings column from highest to lowest and get the first movie from the dataset. This is nothing but highly rated movie."
   ]
  },
  {
   "cell_type": "code",
   "execution_count": 28,
   "metadata": {},
   "outputs": [],
   "source": [
    "by_users_rating = grouped_data[(grouped_data.rating > mean_rating) & (grouped_data.total_votes_count > minvotes)]"
   ]
  },
  {
   "cell_type": "code",
   "execution_count": 29,
   "metadata": {},
   "outputs": [],
   "source": [
    "high_rated_movie = by_users_rating.sort_values(by= ['rating' ,'total_votes_count'] , ascending = False)"
   ]
  },
  {
   "cell_type": "code",
   "execution_count": 30,
   "metadata": {},
   "outputs": [
    {
     "data": {
      "text/html": [
       "<div>\n",
       "<style scoped>\n",
       "    .dataframe tbody tr th:only-of-type {\n",
       "        vertical-align: middle;\n",
       "    }\n",
       "\n",
       "    .dataframe tbody tr th {\n",
       "        vertical-align: top;\n",
       "    }\n",
       "\n",
       "    .dataframe thead th {\n",
       "        text-align: right;\n",
       "    }\n",
       "</style>\n",
       "<table border=\"1\" class=\"dataframe\">\n",
       "  <thead>\n",
       "    <tr style=\"text-align: right;\">\n",
       "      <th></th>\n",
       "      <th>movie_id</th>\n",
       "      <th>title</th>\n",
       "      <th>total_votes_count</th>\n",
       "      <th>rating</th>\n",
       "    </tr>\n",
       "  </thead>\n",
       "  <tbody>\n",
       "    <tr>\n",
       "      <th>1839</th>\n",
       "      <td>2019</td>\n",
       "      <td>Seven Samurai (The Magnificent Seven) (Shichin...</td>\n",
       "      <td>628</td>\n",
       "      <td>4.56051</td>\n",
       "    </tr>\n",
       "  </tbody>\n",
       "</table>\n",
       "</div>"
      ],
      "text/plain": [
       "      movie_id                                              title  \\\n",
       "1839      2019  Seven Samurai (The Magnificent Seven) (Shichin...   \n",
       "\n",
       "      total_votes_count   rating  \n",
       "1839                628  4.56051  "
      ]
     },
     "execution_count": 30,
     "metadata": {},
     "output_type": "execute_result"
    }
   ],
   "source": [
    "high_rated_movie.head(1)"
   ]
  },
  {
   "cell_type": "markdown",
   "metadata": {},
   "source": [
    "###### What is a good rated movie for date night? (60 pts)\n",
    "\n",
    "- Hint - highly rated movie by \n",
    "    - both partners (might be the same gender or not),\n",
    "    - based on genre preferences,\n",
    "    - age group can also be combined"
   ]
  },
  {
   "cell_type": "markdown",
   "metadata": {},
   "source": [
    "### Trying to understand the unique genres and trying to filter genres with romance string in it as we are looking for date night movies.\n",
    "\n",
    "    *https://pandas.pydata.org/docs/reference/api/pandas.Series.str.contains.html"
   ]
  },
  {
   "cell_type": "code",
   "execution_count": 31,
   "metadata": {},
   "outputs": [
    {
     "name": "stdout",
     "output_type": "stream",
     "text": [
      "['Drama' \"Animation|Children's|Musical\" 'Musical|Romance'\n",
      " \"Animation|Children's|Comedy\" 'Action|Adventure|Comedy|Romance'\n",
      " 'Action|Adventure|Drama' 'Comedy|Drama'\n",
      " \"Adventure|Children's|Drama|Musical\" 'Musical' 'Comedy'\n",
      " \"Animation|Children's\" 'Comedy|Fantasy' 'Animation' 'Comedy|Sci-Fi'\n",
      " 'Drama|War' 'Romance' \"Animation|Children's|Musical|Romance\"\n",
      " \"Children's|Drama|Fantasy|Sci-Fi\" 'Drama|Romance'\n",
      " 'Animation|Comedy|Thriller'\n",
      " \"Adventure|Animation|Children's|Comedy|Musical\"\n",
      " \"Animation|Children's|Comedy|Musical\" 'Thriller' 'Action|Crime|Romance'\n",
      " 'Action|Adventure|Fantasy|Sci-Fi' \"Children's|Comedy|Musical\"\n",
      " 'Action|Drama|War' \"Children's|Drama\" 'Crime|Drama|Thriller'\n",
      " 'Action|Crime|Drama' 'Action|Adventure|Mystery' 'Crime|Drama'\n",
      " 'Action|Adventure|Sci-Fi|Thriller' 'Action|Adventure|Romance|Sci-Fi|War'\n",
      " 'Action|Thriller' 'Action|Drama' 'Comedy|Drama|Western'\n",
      " 'Action|Adventure|Crime' 'Action|Crime|Mystery|Thriller'\n",
      " 'Comedy|Drama|Romance' 'Comedy|Drama|War' 'Drama|Sci-Fi'\n",
      " 'Action|Drama|Thriller' 'Action|Comedy|Western' 'Adventure|Comedy|Drama'\n",
      " 'Drama|Thriller' 'Comedy|Romance' 'Action|Drama|Romance|Thriller'\n",
      " 'Action|Crime|Thriller' 'Action|Sci-Fi|Thriller' 'Action|Horror|Sci-Fi'\n",
      " 'Action|Sci-Fi' 'Action|Romance|War' 'Adventure|Drama|Romance|Sci-Fi'\n",
      " 'Action|Adventure|Sci-Fi' 'Drama|Romance|War' 'Action|Drama|Romance'\n",
      " 'Crime|Drama|Film-Noir|Thriller' 'Adventure|Drama|Western'\n",
      " 'Action|Adventure|Drama|Sci-Fi|War' 'Action|Adventure|Thriller'\n",
      " 'Action|Adventure|Romance|Thriller' 'Action|Adventure' 'Comedy|Horror'\n",
      " 'Action|Crime|Drama|Thriller' 'Action|Mystery|Romance|Thriller'\n",
      " 'Action|Romance|Thriller' 'Action|Comedy|Drama' 'Action'\n",
      " 'Action|Sci-Fi|War' 'Action|Comedy|Crime|Drama'\n",
      " 'Action|Adventure|Romance' 'Comedy|Romance|War' 'Comedy|Thriller'\n",
      " 'Action|Adventure|Comedy' 'Action|Comedy' 'Adventure|Thriller'\n",
      " 'Action|Adventure|Fantasy' 'Action|Adventure|Horror'\n",
      " 'Action|Adventure|Comedy|Sci-Fi' 'Action|Adventure|Comedy|Horror'\n",
      " 'Western' 'Adventure|Comedy' 'Adventure|Drama'\n",
      " 'Action|Adventure|Horror|Thriller' 'Comedy|Western'\n",
      " \"Animation|Children's|Comedy|Musical|Romance\" 'Action|Western'\n",
      " 'Action|Horror|Sci-Fi|Thriller' 'Action|Horror'\n",
      " 'Adventure|Animation|Film-Noir' 'Drama|Romance|Thriller'\n",
      " 'Crime|Drama|Romance|Thriller' 'Crime|Thriller' 'Animation|Comedy'\n",
      " 'Documentary' 'Crime|Film-Noir|Mystery|Thriller' 'Drama|Horror'\n",
      " 'Mystery|Sci-Fi|Thriller' 'Drama|Mystery' 'Horror|Romance'\n",
      " 'Horror|Sci-Fi' 'Horror' 'Sci-Fi|Thriller' 'Crime' 'Action|Crime'\n",
      " 'Crime|Horror' 'Drama|Mystery|Thriller' 'Comedy|Crime'\n",
      " 'Drama|Sci-Fi|Thriller' \"Children's|Comedy\" 'Horror|Mystery|Thriller'\n",
      " 'Film-Noir|Mystery' 'Comedy|Crime|Mystery|Thriller' 'Drama|Musical'\n",
      " 'Adventure|Sci-Fi' \"Children's|Comedy|Drama\" 'Action|Romance'\n",
      " \"Adventure|Animation|Children's|Musical\" 'Comedy|Musical'\n",
      " \"Children's|Fantasy|Musical\" \"Children's|Comedy|Western\"\n",
      " 'Drama|Romance|War|Western' \"Adventure|Children's|Comedy\"\n",
      " 'Comedy|Fantasy|Romance' 'Comedy|Musical|Romance'\n",
      " \"Adventure|Children's|Drama\" 'Action|Drama|Thriller|War'\n",
      " 'Drama|Thriller|War' 'Adventure|Animation|Sci-Fi|Thriller'\n",
      " 'Animation|Sci-Fi' 'Comedy|Crime|Drama|Mystery' 'Crime|Drama|Mystery'\n",
      " 'Action|Comedy|Sci-Fi|Thriller' 'Comedy|Crime|Fantasy'\n",
      " 'Horror|Sci-Fi|Thriller' \"Adventure|Children's|Comedy|Fantasy|Sci-Fi\"\n",
      " 'Film-Noir|Mystery|Thriller' 'Adventure' 'Comedy|War'\n",
      " 'Comedy|Romance|Thriller' \"Action|Children's|Fantasy\"\n",
      " \"Adventure|Children's|Fantasy\" 'Action|Adventure|Comedy|Crime'\n",
      " 'Adventure|Musical' \"Animation|Children's|Drama|Fantasy\"\n",
      " 'Comedy|Mystery|Thriller' 'Action|Adventure|Crime|Drama'\n",
      " \"Children's|Fantasy|Sci-Fi\" \"Adventure|Children's\" 'War'\n",
      " 'Comedy|Horror|Musical|Sci-Fi' \"Children's|Comedy|Fantasy\" 'Sci-Fi|War'\n",
      " \"Animation|Children's|Fantasy|Musical\" \"Children's|Sci-Fi\"\n",
      " \"Adventure|Children's|Fantasy|Sci-Fi\" 'Mystery|Thriller'\n",
      " 'Comedy|Horror|Musical' 'Action|Horror|Thriller' 'Adventure|Fantasy'\n",
      " 'Drama|Mystery|Sci-Fi|Thriller' 'Crime|Drama|Sci-Fi'\n",
      " \"Adventure|Children's|Musical\" 'Action|Sci-Fi|Thriller|War'\n",
      " 'Adventure|War' 'Action|Adventure|Romance|War'\n",
      " 'Action|Drama|Fantasy|Romance' 'Adventure|Comedy|Sci-Fi'\n",
      " 'Comedy|Sci-Fi|Western' 'Action|Adventure|Comedy|Horror|Sci-Fi'\n",
      " \"Adventure|Children's|Comedy|Fantasy\" 'Film-Noir|Sci-Fi' 'Drama|Fantasy'\n",
      " \"Children's|Drama|Fantasy\" \"Children's|Fantasy\" 'Fantasy|Sci-Fi'\n",
      " 'Action|Comedy|Musical' 'Adventure|Fantasy|Sci-Fi'\n",
      " 'Action|Adventure|Sci-Fi|War' \"Action|Adventure|Children's|Comedy\"\n",
      " \"Adventure|Children's|Drama|Romance\" \"Adventure|Children's|Sci-Fi\"\n",
      " \"Children's\" 'Comedy|Drama|Musical' 'Comedy|Fantasy|Romance|Sci-Fi'\n",
      " 'Comedy|Crime|Drama' 'Sci-Fi' 'Adventure|Fantasy|Romance'\n",
      " 'Adventure|Romance' 'Adventure|Western' 'Action|Drama|Mystery'\n",
      " 'Adventure|Animation|Sci-Fi' 'Adventure|Romance|Sci-Fi' 'Horror|Thriller'\n",
      " 'Action|Adventure|Mystery|Sci-Fi' 'Adventure|Drama|Thriller'\n",
      " 'Comedy|Horror|Thriller' 'Action|Comedy|Crime|Horror|Thriller'\n",
      " 'Crime|Horror|Mystery|Thriller' 'Crime|Horror|Thriller'\n",
      " 'Crime|Drama|Mystery|Thriller' 'Animation|Musical'\n",
      " 'Action|Sci-Fi|Western' 'Crime|Drama|Film-Noir'\n",
      " 'Adventure|Sci-Fi|Thriller' 'Drama|Fantasy|Romance|Thriller'\n",
      " 'Mystery|Sci-Fi' 'Action|Crime|Sci-Fi' 'Comedy|Mystery'\n",
      " 'Action|Romance|Sci-Fi' 'Crime|Film-Noir|Mystery' 'Comedy|Drama|Sci-Fi'\n",
      " 'Sci-Fi|Thriller|War' 'Film-Noir|Thriller'\n",
      " 'Action|Adventure|Animation|Horror|Sci-Fi'\n",
      " 'Action|Sci-Fi|Thriller|Western' 'Comedy|Horror|Sci-Fi'\n",
      " 'Crime|Film-Noir|Thriller' 'Comedy|Crime|Thriller'\n",
      " 'Film-Noir|Sci-Fi|Thriller' \"Adventure|Animation|Children's|Sci-Fi\"\n",
      " 'Action|Adventure|Drama|Romance' \"Children's|Musical\"\n",
      " 'Action|Comedy|Musical|Sci-Fi' 'Action|Drama|Sci-Fi|Thriller'\n",
      " 'Action|Comedy|Fantasy' 'Action|War' 'Action|Comedy|Sci-Fi|War'\n",
      " 'Comedy|Crime|Horror' 'Action|Comedy|War'\n",
      " \"Action|Adventure|Children's|Sci-Fi\" \"Action|Children's\"\n",
      " 'Comedy|Documentary' 'Action|Adventure|Animation'\n",
      " 'Action|Mystery|Thriller'\n",
      " \"Action|Animation|Children's|Sci-Fi|Thriller|War\" 'Crime|Drama|Romance'\n",
      " 'Crime|Film-Noir' 'Mystery|Romance|Thriller'\n",
      " 'Comedy|Mystery|Romance|Thriller' 'Action|Adventure|Sci-Fi|Thriller|War'\n",
      " 'Adventure|Crime|Sci-Fi|Thriller' 'Action|Adventure|Western'\n",
      " \"Animation|Children's|Fantasy|War\" 'Action|Adventure|Comedy|War'\n",
      " \"Children's|Comedy|Sci-Fi\"\n",
      " \"Adventure|Animation|Children's|Comedy|Fantasy\" 'Drama|Musical|War'\n",
      " 'Drama|Mystery|Romance' 'Adventure|Drama|Romance' 'Film-Noir'\n",
      " 'Film-Noir|Romance|Thriller' 'Drama|Film-Noir' 'Romance|Thriller'\n",
      " 'Action|Adventure|War' 'Mystery' 'Action|Adventure|Drama|Thriller'\n",
      " 'Musical|Romance|War' 'Drama|Western'\n",
      " 'Action|Drama|Mystery|Romance|Thriller' 'Adventure|Comedy|Musical'\n",
      " 'Documentary|Musical' 'Action|Thriller|War' 'Adventure|Comedy|Romance'\n",
      " \"Adventure|Children's|Comedy|Fantasy|Romance\" 'Romance|War'\n",
      " 'Comedy|Romance|Sci-Fi' 'Action|Mystery|Sci-Fi|Thriller'\n",
      " \"Children's|Horror\" 'Adventure|Musical|Romance'\n",
      " \"Adventure|Children's|Comedy|Musical\" \"Children's|Comedy|Mystery\"\n",
      " 'Action|Comedy|Romance|Thriller' 'Action|Drama|Western'\n",
      " \"Animation|Children's|Comedy|Romance\" 'Comedy|Mystery|Romance'\n",
      " 'Action|Crime|Mystery' 'Comedy|Drama|Thriller' 'Musical|War'\n",
      " 'Documentary|Drama' 'Action|Adventure|Crime|Thriller'\n",
      " \"Action|Adventure|Children's\" \"Adventure|Children's|Romance\"\n",
      " \"Adventure|Animation|Children's\"\n",
      " \"Action|Adventure|Animation|Children's|Fantasy\"\n",
      " \"Adventure|Animation|Children's|Fantasy\" 'Drama|Film-Noir|Thriller'\n",
      " 'Crime|Mystery' 'Documentary|War' 'Action|Comedy|Crime'\n",
      " 'Drama|Romance|Sci-Fi' 'Horror|Mystery' 'Drama|Horror|Thriller'\n",
      " \"Action|Adventure|Children's|Fantasy\" 'Animation|Mystery'\n",
      " 'Drama|Romance|Western' 'Romance|Western' 'Comedy|Film-Noir|Thriller'\n",
      " 'Fantasy' 'Film-Noir|Horror']\n"
     ]
    }
   ],
   "source": [
    "genre = user_rating_movies_table_merge.genres.unique()\n",
    "print(genre)"
   ]
  },
  {
   "cell_type": "markdown",
   "metadata": {},
   "source": [
    "#### Filtering the data with genre as romance in it and am trying to filter the age greater than 30 who is interested in watching movies released after 1997.  I converted the year to int as I was getting an error which said I am comparing string with int so after using astype.int() I was able to convert that column to int "
   ]
  },
  {
   "cell_type": "code",
   "execution_count": 32,
   "metadata": {},
   "outputs": [
    {
     "data": {
      "text/html": [
       "<div>\n",
       "<style scoped>\n",
       "    .dataframe tbody tr th:only-of-type {\n",
       "        vertical-align: middle;\n",
       "    }\n",
       "\n",
       "    .dataframe tbody tr th {\n",
       "        vertical-align: top;\n",
       "    }\n",
       "\n",
       "    .dataframe thead th {\n",
       "        text-align: right;\n",
       "    }\n",
       "</style>\n",
       "<table border=\"1\" class=\"dataframe\">\n",
       "  <thead>\n",
       "    <tr style=\"text-align: right;\">\n",
       "      <th></th>\n",
       "      <th>user_id</th>\n",
       "      <th>gender</th>\n",
       "      <th>age</th>\n",
       "      <th>occupation</th>\n",
       "      <th>zip</th>\n",
       "      <th>movie_id</th>\n",
       "      <th>rating</th>\n",
       "      <th>timestamp</th>\n",
       "      <th>title</th>\n",
       "      <th>genres</th>\n",
       "      <th>year</th>\n",
       "      <th>short_title</th>\n",
       "    </tr>\n",
       "  </thead>\n",
       "  <tbody>\n",
       "    <tr>\n",
       "      <th>28160</th>\n",
       "      <td>45</td>\n",
       "      <td>F</td>\n",
       "      <td>45</td>\n",
       "      <td>16</td>\n",
       "      <td>94110</td>\n",
       "      <td>2340</td>\n",
       "      <td>2</td>\n",
       "      <td>977988826</td>\n",
       "      <td>Meet Joe Black (1998)</td>\n",
       "      <td>Romance</td>\n",
       "      <td>1998</td>\n",
       "      <td>Meet Joe Black</td>\n",
       "    </tr>\n",
       "    <tr>\n",
       "      <th>28162</th>\n",
       "      <td>137</td>\n",
       "      <td>F</td>\n",
       "      <td>45</td>\n",
       "      <td>6</td>\n",
       "      <td>78758</td>\n",
       "      <td>2340</td>\n",
       "      <td>3</td>\n",
       "      <td>1000869643</td>\n",
       "      <td>Meet Joe Black (1998)</td>\n",
       "      <td>Romance</td>\n",
       "      <td>1998</td>\n",
       "      <td>Meet Joe Black</td>\n",
       "    </tr>\n",
       "    <tr>\n",
       "      <th>28167</th>\n",
       "      <td>201</td>\n",
       "      <td>F</td>\n",
       "      <td>35</td>\n",
       "      <td>2</td>\n",
       "      <td>55117</td>\n",
       "      <td>2340</td>\n",
       "      <td>5</td>\n",
       "      <td>976947374</td>\n",
       "      <td>Meet Joe Black (1998)</td>\n",
       "      <td>Romance</td>\n",
       "      <td>1998</td>\n",
       "      <td>Meet Joe Black</td>\n",
       "    </tr>\n",
       "    <tr>\n",
       "      <th>28172</th>\n",
       "      <td>326</td>\n",
       "      <td>M</td>\n",
       "      <td>50</td>\n",
       "      <td>11</td>\n",
       "      <td>25302</td>\n",
       "      <td>2340</td>\n",
       "      <td>3</td>\n",
       "      <td>980988524</td>\n",
       "      <td>Meet Joe Black (1998)</td>\n",
       "      <td>Romance</td>\n",
       "      <td>1998</td>\n",
       "      <td>Meet Joe Black</td>\n",
       "    </tr>\n",
       "    <tr>\n",
       "      <th>28174</th>\n",
       "      <td>343</td>\n",
       "      <td>F</td>\n",
       "      <td>35</td>\n",
       "      <td>3</td>\n",
       "      <td>55127</td>\n",
       "      <td>2340</td>\n",
       "      <td>4</td>\n",
       "      <td>1040569658</td>\n",
       "      <td>Meet Joe Black (1998)</td>\n",
       "      <td>Romance</td>\n",
       "      <td>1998</td>\n",
       "      <td>Meet Joe Black</td>\n",
       "    </tr>\n",
       "    <tr>\n",
       "      <th>...</th>\n",
       "      <td>...</td>\n",
       "      <td>...</td>\n",
       "      <td>...</td>\n",
       "      <td>...</td>\n",
       "      <td>...</td>\n",
       "      <td>...</td>\n",
       "      <td>...</td>\n",
       "      <td>...</td>\n",
       "      <td>...</td>\n",
       "      <td>...</td>\n",
       "      <td>...</td>\n",
       "      <td>...</td>\n",
       "    </tr>\n",
       "    <tr>\n",
       "      <th>999924</th>\n",
       "      <td>5039</td>\n",
       "      <td>F</td>\n",
       "      <td>35</td>\n",
       "      <td>4</td>\n",
       "      <td>97068</td>\n",
       "      <td>1770</td>\n",
       "      <td>2</td>\n",
       "      <td>962511522</td>\n",
       "      <td>B. Monkey (1998)</td>\n",
       "      <td>Romance|Thriller</td>\n",
       "      <td>1998</td>\n",
       "      <td>B. Monkey</td>\n",
       "    </tr>\n",
       "    <tr>\n",
       "      <th>999927</th>\n",
       "      <td>5398</td>\n",
       "      <td>M</td>\n",
       "      <td>56</td>\n",
       "      <td>17</td>\n",
       "      <td>71301</td>\n",
       "      <td>1770</td>\n",
       "      <td>4</td>\n",
       "      <td>960300359</td>\n",
       "      <td>B. Monkey (1998)</td>\n",
       "      <td>Romance|Thriller</td>\n",
       "      <td>1998</td>\n",
       "      <td>B. Monkey</td>\n",
       "    </tr>\n",
       "    <tr>\n",
       "      <th>999929</th>\n",
       "      <td>5413</td>\n",
       "      <td>M</td>\n",
       "      <td>35</td>\n",
       "      <td>1</td>\n",
       "      <td>59801</td>\n",
       "      <td>1770</td>\n",
       "      <td>4</td>\n",
       "      <td>960915308</td>\n",
       "      <td>B. Monkey (1998)</td>\n",
       "      <td>Romance|Thriller</td>\n",
       "      <td>1998</td>\n",
       "      <td>B. Monkey</td>\n",
       "    </tr>\n",
       "    <tr>\n",
       "      <th>999930</th>\n",
       "      <td>5599</td>\n",
       "      <td>M</td>\n",
       "      <td>35</td>\n",
       "      <td>7</td>\n",
       "      <td>90020</td>\n",
       "      <td>1770</td>\n",
       "      <td>3</td>\n",
       "      <td>959213788</td>\n",
       "      <td>B. Monkey (1998)</td>\n",
       "      <td>Romance|Thriller</td>\n",
       "      <td>1998</td>\n",
       "      <td>B. Monkey</td>\n",
       "    </tr>\n",
       "    <tr>\n",
       "      <th>999931</th>\n",
       "      <td>5675</td>\n",
       "      <td>M</td>\n",
       "      <td>35</td>\n",
       "      <td>14</td>\n",
       "      <td>30030</td>\n",
       "      <td>1770</td>\n",
       "      <td>4</td>\n",
       "      <td>963427069</td>\n",
       "      <td>B. Monkey (1998)</td>\n",
       "      <td>Romance|Thriller</td>\n",
       "      <td>1998</td>\n",
       "      <td>B. Monkey</td>\n",
       "    </tr>\n",
       "  </tbody>\n",
       "</table>\n",
       "<p>7889 rows × 12 columns</p>\n",
       "</div>"
      ],
      "text/plain": [
       "        user_id gender  age  occupation    zip  movie_id  rating   timestamp  \\\n",
       "28160        45      F   45          16  94110      2340       2   977988826   \n",
       "28162       137      F   45           6  78758      2340       3  1000869643   \n",
       "28167       201      F   35           2  55117      2340       5   976947374   \n",
       "28172       326      M   50          11  25302      2340       3   980988524   \n",
       "28174       343      F   35           3  55127      2340       4  1040569658   \n",
       "...         ...    ...  ...         ...    ...       ...     ...         ...   \n",
       "999924     5039      F   35           4  97068      1770       2   962511522   \n",
       "999927     5398      M   56          17  71301      1770       4   960300359   \n",
       "999929     5413      M   35           1  59801      1770       4   960915308   \n",
       "999930     5599      M   35           7  90020      1770       3   959213788   \n",
       "999931     5675      M   35          14  30030      1770       4   963427069   \n",
       "\n",
       "                        title            genres  year     short_title  \n",
       "28160   Meet Joe Black (1998)           Romance  1998  Meet Joe Black  \n",
       "28162   Meet Joe Black (1998)           Romance  1998  Meet Joe Black  \n",
       "28167   Meet Joe Black (1998)           Romance  1998  Meet Joe Black  \n",
       "28172   Meet Joe Black (1998)           Romance  1998  Meet Joe Black  \n",
       "28174   Meet Joe Black (1998)           Romance  1998  Meet Joe Black  \n",
       "...                       ...               ...   ...             ...  \n",
       "999924       B. Monkey (1998)  Romance|Thriller  1998       B. Monkey  \n",
       "999927       B. Monkey (1998)  Romance|Thriller  1998       B. Monkey  \n",
       "999929       B. Monkey (1998)  Romance|Thriller  1998       B. Monkey  \n",
       "999930       B. Monkey (1998)  Romance|Thriller  1998       B. Monkey  \n",
       "999931       B. Monkey (1998)  Romance|Thriller  1998       B. Monkey  \n",
       "\n",
       "[7889 rows x 12 columns]"
      ]
     },
     "execution_count": 32,
     "metadata": {},
     "output_type": "execute_result"
    }
   ],
   "source": [
    "romantic_movie_data = user_rating_movies_table_merge[(user_rating_movies_table_merge.genres.str.contains(\"Romance\")) & (user_rating_movies_table_merge.age>30)\n",
    "                                       & ((user_rating_movies_table_merge.year.astype(int) > 1997))]\n",
    "romantic_movie_data"
   ]
  },
  {
   "cell_type": "code",
   "execution_count": 33,
   "metadata": {},
   "outputs": [],
   "source": [
    "grouped_data_romance = romantic_movie_data.groupby(['movie_id' ,'title' , 'genres' , 'gender' ,'age'])"
   ]
  },
  {
   "cell_type": "code",
   "execution_count": 34,
   "metadata": {},
   "outputs": [
    {
     "data": {
      "text/plain": [
       "<pandas.core.groupby.generic.DataFrameGroupBy object at 0x000001CBA9114FA0>"
      ]
     },
     "execution_count": 34,
     "metadata": {},
     "output_type": "execute_result"
    }
   ],
   "source": [
    "grouped_data_romance"
   ]
  },
  {
   "cell_type": "code",
   "execution_count": 35,
   "metadata": {},
   "outputs": [],
   "source": [
    "grouped_data_romance = grouped_data_romance.agg({'user_id': 'count','rating':'mean'}).reset_index()\n",
    "\n",
    "grouped_data_romance = grouped_data_romance.rename(columns = {'user_id' : 'total_votes_count'})"
   ]
  },
  {
   "cell_type": "markdown",
   "metadata": {},
   "source": [
    "#### Below is the dataframe with genre that contains romance keyword and age > 30 and movies after 1999 "
   ]
  },
  {
   "cell_type": "code",
   "execution_count": 36,
   "metadata": {},
   "outputs": [
    {
     "data": {
      "text/html": [
       "<div>\n",
       "<style scoped>\n",
       "    .dataframe tbody tr th:only-of-type {\n",
       "        vertical-align: middle;\n",
       "    }\n",
       "\n",
       "    .dataframe tbody tr th {\n",
       "        vertical-align: top;\n",
       "    }\n",
       "\n",
       "    .dataframe thead th {\n",
       "        text-align: right;\n",
       "    }\n",
       "</style>\n",
       "<table border=\"1\" class=\"dataframe\">\n",
       "  <thead>\n",
       "    <tr style=\"text-align: right;\">\n",
       "      <th></th>\n",
       "      <th>movie_id</th>\n",
       "      <th>title</th>\n",
       "      <th>genres</th>\n",
       "      <th>gender</th>\n",
       "      <th>age</th>\n",
       "      <th>total_votes_count</th>\n",
       "      <th>rating</th>\n",
       "    </tr>\n",
       "  </thead>\n",
       "  <tbody>\n",
       "    <tr>\n",
       "      <th>0</th>\n",
       "      <td>1680</td>\n",
       "      <td>Sliding Doors (1998)</td>\n",
       "      <td>Drama|Romance</td>\n",
       "      <td>F</td>\n",
       "      <td>35</td>\n",
       "      <td>38</td>\n",
       "      <td>3.736842</td>\n",
       "    </tr>\n",
       "    <tr>\n",
       "      <th>1</th>\n",
       "      <td>1680</td>\n",
       "      <td>Sliding Doors (1998)</td>\n",
       "      <td>Drama|Romance</td>\n",
       "      <td>F</td>\n",
       "      <td>45</td>\n",
       "      <td>15</td>\n",
       "      <td>3.533333</td>\n",
       "    </tr>\n",
       "    <tr>\n",
       "      <th>2</th>\n",
       "      <td>1680</td>\n",
       "      <td>Sliding Doors (1998)</td>\n",
       "      <td>Drama|Romance</td>\n",
       "      <td>F</td>\n",
       "      <td>50</td>\n",
       "      <td>13</td>\n",
       "      <td>3.230769</td>\n",
       "    </tr>\n",
       "    <tr>\n",
       "      <th>3</th>\n",
       "      <td>1680</td>\n",
       "      <td>Sliding Doors (1998)</td>\n",
       "      <td>Drama|Romance</td>\n",
       "      <td>F</td>\n",
       "      <td>56</td>\n",
       "      <td>4</td>\n",
       "      <td>4.500000</td>\n",
       "    </tr>\n",
       "    <tr>\n",
       "      <th>4</th>\n",
       "      <td>1680</td>\n",
       "      <td>Sliding Doors (1998)</td>\n",
       "      <td>Drama|Romance</td>\n",
       "      <td>M</td>\n",
       "      <td>35</td>\n",
       "      <td>35</td>\n",
       "      <td>3.914286</td>\n",
       "    </tr>\n",
       "    <tr>\n",
       "      <th>...</th>\n",
       "      <td>...</td>\n",
       "      <td>...</td>\n",
       "      <td>...</td>\n",
       "      <td>...</td>\n",
       "      <td>...</td>\n",
       "      <td>...</td>\n",
       "      <td>...</td>\n",
       "    </tr>\n",
       "    <tr>\n",
       "      <th>677</th>\n",
       "      <td>3909</td>\n",
       "      <td>Woman on Top (2000)</td>\n",
       "      <td>Comedy|Romance</td>\n",
       "      <td>F</td>\n",
       "      <td>56</td>\n",
       "      <td>1</td>\n",
       "      <td>3.000000</td>\n",
       "    </tr>\n",
       "    <tr>\n",
       "      <th>678</th>\n",
       "      <td>3909</td>\n",
       "      <td>Woman on Top (2000)</td>\n",
       "      <td>Comedy|Romance</td>\n",
       "      <td>M</td>\n",
       "      <td>35</td>\n",
       "      <td>7</td>\n",
       "      <td>3.285714</td>\n",
       "    </tr>\n",
       "    <tr>\n",
       "      <th>679</th>\n",
       "      <td>3909</td>\n",
       "      <td>Woman on Top (2000)</td>\n",
       "      <td>Comedy|Romance</td>\n",
       "      <td>M</td>\n",
       "      <td>45</td>\n",
       "      <td>3</td>\n",
       "      <td>2.333333</td>\n",
       "    </tr>\n",
       "    <tr>\n",
       "      <th>680</th>\n",
       "      <td>3909</td>\n",
       "      <td>Woman on Top (2000)</td>\n",
       "      <td>Comedy|Romance</td>\n",
       "      <td>M</td>\n",
       "      <td>50</td>\n",
       "      <td>3</td>\n",
       "      <td>2.666667</td>\n",
       "    </tr>\n",
       "    <tr>\n",
       "      <th>681</th>\n",
       "      <td>3909</td>\n",
       "      <td>Woman on Top (2000)</td>\n",
       "      <td>Comedy|Romance</td>\n",
       "      <td>M</td>\n",
       "      <td>56</td>\n",
       "      <td>3</td>\n",
       "      <td>3.000000</td>\n",
       "    </tr>\n",
       "  </tbody>\n",
       "</table>\n",
       "<p>682 rows × 7 columns</p>\n",
       "</div>"
      ],
      "text/plain": [
       "     movie_id                 title          genres gender  age  \\\n",
       "0        1680  Sliding Doors (1998)   Drama|Romance      F   35   \n",
       "1        1680  Sliding Doors (1998)   Drama|Romance      F   45   \n",
       "2        1680  Sliding Doors (1998)   Drama|Romance      F   50   \n",
       "3        1680  Sliding Doors (1998)   Drama|Romance      F   56   \n",
       "4        1680  Sliding Doors (1998)   Drama|Romance      M   35   \n",
       "..        ...                   ...             ...    ...  ...   \n",
       "677      3909   Woman on Top (2000)  Comedy|Romance      F   56   \n",
       "678      3909   Woman on Top (2000)  Comedy|Romance      M   35   \n",
       "679      3909   Woman on Top (2000)  Comedy|Romance      M   45   \n",
       "680      3909   Woman on Top (2000)  Comedy|Romance      M   50   \n",
       "681      3909   Woman on Top (2000)  Comedy|Romance      M   56   \n",
       "\n",
       "     total_votes_count    rating  \n",
       "0                   38  3.736842  \n",
       "1                   15  3.533333  \n",
       "2                   13  3.230769  \n",
       "3                    4  4.500000  \n",
       "4                   35  3.914286  \n",
       "..                 ...       ...  \n",
       "677                  1  3.000000  \n",
       "678                  7  3.285714  \n",
       "679                  3  2.333333  \n",
       "680                  3  2.666667  \n",
       "681                  3  3.000000  \n",
       "\n",
       "[682 rows x 7 columns]"
      ]
     },
     "execution_count": 36,
     "metadata": {},
     "output_type": "execute_result"
    }
   ],
   "source": [
    "grouped_data_romance"
   ]
  },
  {
   "cell_type": "code",
   "execution_count": 37,
   "metadata": {},
   "outputs": [
    {
     "name": "stdout",
     "output_type": "stream",
     "text": [
      "3.306161374496498\n"
     ]
    }
   ],
   "source": [
    "mean_rating_romanctic_data = grouped_data_romance.rating.mean()\n",
    "print(mean_rating_romanctic_data)"
   ]
  },
  {
   "cell_type": "code",
   "execution_count": 38,
   "metadata": {},
   "outputs": [
    {
     "name": "stdout",
     "output_type": "stream",
     "text": [
      "10.0\n"
     ]
    }
   ],
   "source": [
    "minvotes_romantic = grouped_data_romance[\"total_votes_count\"].quantile(0.75) - grouped_data_romance[\"total_votes_count\"].quantile(0.25)\n",
    "print(minvotes_romantic)"
   ]
  },
  {
   "cell_type": "code",
   "execution_count": 39,
   "metadata": {},
   "outputs": [],
   "source": [
    "high_rated_movie_by_genre_age_year = grouped_data_romance[(grouped_data_romance.rating > mean_rating_romanctic_data) & (grouped_data_romance.total_votes_count > minvotes_romantic) ]"
   ]
  },
  {
   "cell_type": "code",
   "execution_count": 40,
   "metadata": {},
   "outputs": [],
   "source": [
    "high_rated_movie_by_genre_age_year = high_rated_movie_by_genre_age_year.sort_values(by= ['rating' ,'total_votes_count'] , ascending = False)"
   ]
  },
  {
   "cell_type": "markdown",
   "metadata": {},
   "source": [
    "### high rated movie by genre romance ,  age > 30 and movie year > 1997"
   ]
  },
  {
   "cell_type": "code",
   "execution_count": 41,
   "metadata": {},
   "outputs": [
    {
     "data": {
      "text/html": [
       "<div>\n",
       "<style scoped>\n",
       "    .dataframe tbody tr th:only-of-type {\n",
       "        vertical-align: middle;\n",
       "    }\n",
       "\n",
       "    .dataframe tbody tr th {\n",
       "        vertical-align: top;\n",
       "    }\n",
       "\n",
       "    .dataframe thead th {\n",
       "        text-align: right;\n",
       "    }\n",
       "</style>\n",
       "<table border=\"1\" class=\"dataframe\">\n",
       "  <thead>\n",
       "    <tr style=\"text-align: right;\">\n",
       "      <th></th>\n",
       "      <th>movie_id</th>\n",
       "      <th>title</th>\n",
       "      <th>genres</th>\n",
       "      <th>gender</th>\n",
       "      <th>age</th>\n",
       "      <th>total_votes_count</th>\n",
       "      <th>rating</th>\n",
       "    </tr>\n",
       "  </thead>\n",
       "  <tbody>\n",
       "    <tr>\n",
       "      <th>404</th>\n",
       "      <td>2692</td>\n",
       "      <td>Run Lola Run (Lola rennt) (1998)</td>\n",
       "      <td>Action|Crime|Romance</td>\n",
       "      <td>F</td>\n",
       "      <td>45</td>\n",
       "      <td>19</td>\n",
       "      <td>4.421053</td>\n",
       "    </tr>\n",
       "  </tbody>\n",
       "</table>\n",
       "</div>"
      ],
      "text/plain": [
       "     movie_id                             title                genres gender  \\\n",
       "404      2692  Run Lola Run (Lola rennt) (1998)  Action|Crime|Romance      F   \n",
       "\n",
       "     age  total_votes_count    rating  \n",
       "404   45                 19  4.421053  "
      ]
     },
     "execution_count": 41,
     "metadata": {},
     "output_type": "execute_result"
    }
   ],
   "source": [
    "high_rated_movie_by_genre_age_year.head(1)"
   ]
  },
  {
   "cell_type": "markdown",
   "metadata": {},
   "source": [
    "#### Another way of choosing the genre could be by most watched movie by youngters so lets see how we can calculate that "
   ]
  },
  {
   "cell_type": "code",
   "execution_count": 42,
   "metadata": {},
   "outputs": [
    {
     "name": "stdout",
     "output_type": "stream",
     "text": [
      "Comedy                       116883\n",
      "Drama                        111423\n",
      "Comedy|Romance                42712\n",
      "Comedy|Drama                  42245\n",
      "Drama|Romance                 29170\n",
      "                              ...  \n",
      "Drama|Romance|Western            29\n",
      "Children's|Fantasy               27\n",
      "Comedy|Film-Noir|Thriller         5\n",
      "Film-Noir|Horror                  2\n",
      "Fantasy                           1\n",
      "Name: genres, Length: 301, dtype: int64\n"
     ]
    }
   ],
   "source": [
    "genre = user_rating_movies_table_merge.genres.value_counts()\n",
    "print(genre)"
   ]
  },
  {
   "cell_type": "markdown",
   "metadata": {},
   "source": [
    "#### From the above we see that genre \"Comedy|Romance\" is most liked or watched. We calculated from value_counts which gives the total sum of  each genre, so we can use this information to filter the genre"
   ]
  },
  {
   "cell_type": "code",
   "execution_count": 43,
   "metadata": {},
   "outputs": [
    {
     "name": "stdout",
     "output_type": "stream",
     "text": [
      "25    395556\n",
      "35    199003\n",
      "18    183536\n",
      "45     83633\n",
      "50     72490\n",
      "56     38780\n",
      "1      27211\n",
      "Name: age, dtype: int64\n"
     ]
    }
   ],
   "source": [
    "age = user_rating_movies_table_merge.age.value_counts()\n",
    "print(age)"
   ]
  },
  {
   "cell_type": "markdown",
   "metadata": {},
   "source": [
    "### From above we see that people with age = 25 watch movies frequently and now lets see which is the highest rated movie based on the above collected information for the young age group"
   ]
  },
  {
   "cell_type": "code",
   "execution_count": 44,
   "metadata": {},
   "outputs": [
    {
     "data": {
      "text/html": [
       "<div>\n",
       "<style scoped>\n",
       "    .dataframe tbody tr th:only-of-type {\n",
       "        vertical-align: middle;\n",
       "    }\n",
       "\n",
       "    .dataframe tbody tr th {\n",
       "        vertical-align: top;\n",
       "    }\n",
       "\n",
       "    .dataframe thead th {\n",
       "        text-align: right;\n",
       "    }\n",
       "</style>\n",
       "<table border=\"1\" class=\"dataframe\">\n",
       "  <thead>\n",
       "    <tr style=\"text-align: right;\">\n",
       "      <th></th>\n",
       "      <th>user_id</th>\n",
       "      <th>gender</th>\n",
       "      <th>age</th>\n",
       "      <th>occupation</th>\n",
       "      <th>zip</th>\n",
       "      <th>movie_id</th>\n",
       "      <th>rating</th>\n",
       "      <th>timestamp</th>\n",
       "      <th>title</th>\n",
       "      <th>genres</th>\n",
       "      <th>year</th>\n",
       "      <th>short_title</th>\n",
       "    </tr>\n",
       "  </thead>\n",
       "  <tbody>\n",
       "    <tr>\n",
       "      <th>144107</th>\n",
       "      <td>8</td>\n",
       "      <td>M</td>\n",
       "      <td>25</td>\n",
       "      <td>12</td>\n",
       "      <td>11413</td>\n",
       "      <td>2396</td>\n",
       "      <td>5</td>\n",
       "      <td>978229524</td>\n",
       "      <td>Shakespeare in Love (1998)</td>\n",
       "      <td>Comedy|Romance</td>\n",
       "      <td>1998</td>\n",
       "      <td>Shakespeare in Love</td>\n",
       "    </tr>\n",
       "    <tr>\n",
       "      <th>144109</th>\n",
       "      <td>11</td>\n",
       "      <td>F</td>\n",
       "      <td>25</td>\n",
       "      <td>1</td>\n",
       "      <td>04093</td>\n",
       "      <td>2396</td>\n",
       "      <td>2</td>\n",
       "      <td>978902561</td>\n",
       "      <td>Shakespeare in Love (1998)</td>\n",
       "      <td>Comedy|Romance</td>\n",
       "      <td>1998</td>\n",
       "      <td>Shakespeare in Love</td>\n",
       "    </tr>\n",
       "    <tr>\n",
       "      <th>144111</th>\n",
       "      <td>15</td>\n",
       "      <td>M</td>\n",
       "      <td>25</td>\n",
       "      <td>7</td>\n",
       "      <td>22903</td>\n",
       "      <td>2396</td>\n",
       "      <td>4</td>\n",
       "      <td>978196817</td>\n",
       "      <td>Shakespeare in Love (1998)</td>\n",
       "      <td>Comedy|Romance</td>\n",
       "      <td>1998</td>\n",
       "      <td>Shakespeare in Love</td>\n",
       "    </tr>\n",
       "    <tr>\n",
       "      <th>144115</th>\n",
       "      <td>24</td>\n",
       "      <td>F</td>\n",
       "      <td>25</td>\n",
       "      <td>7</td>\n",
       "      <td>10023</td>\n",
       "      <td>2396</td>\n",
       "      <td>4</td>\n",
       "      <td>978134987</td>\n",
       "      <td>Shakespeare in Love (1998)</td>\n",
       "      <td>Comedy|Romance</td>\n",
       "      <td>1998</td>\n",
       "      <td>Shakespeare in Love</td>\n",
       "    </tr>\n",
       "    <tr>\n",
       "      <th>144116</th>\n",
       "      <td>28</td>\n",
       "      <td>F</td>\n",
       "      <td>25</td>\n",
       "      <td>1</td>\n",
       "      <td>14607</td>\n",
       "      <td>2396</td>\n",
       "      <td>5</td>\n",
       "      <td>978125846</td>\n",
       "      <td>Shakespeare in Love (1998)</td>\n",
       "      <td>Comedy|Romance</td>\n",
       "      <td>1998</td>\n",
       "      <td>Shakespeare in Love</td>\n",
       "    </tr>\n",
       "    <tr>\n",
       "      <th>...</th>\n",
       "      <td>...</td>\n",
       "      <td>...</td>\n",
       "      <td>...</td>\n",
       "      <td>...</td>\n",
       "      <td>...</td>\n",
       "      <td>...</td>\n",
       "      <td>...</td>\n",
       "      <td>...</td>\n",
       "      <td>...</td>\n",
       "      <td>...</td>\n",
       "      <td>...</td>\n",
       "      <td>...</td>\n",
       "    </tr>\n",
       "    <tr>\n",
       "      <th>999628</th>\n",
       "      <td>2344</td>\n",
       "      <td>M</td>\n",
       "      <td>25</td>\n",
       "      <td>12</td>\n",
       "      <td>02139</td>\n",
       "      <td>1878</td>\n",
       "      <td>3</td>\n",
       "      <td>974414834</td>\n",
       "      <td>Woo (1998)</td>\n",
       "      <td>Comedy|Romance</td>\n",
       "      <td>1998</td>\n",
       "      <td>Woo</td>\n",
       "    </tr>\n",
       "    <tr>\n",
       "      <th>999629</th>\n",
       "      <td>2378</td>\n",
       "      <td>M</td>\n",
       "      <td>25</td>\n",
       "      <td>3</td>\n",
       "      <td>75150</td>\n",
       "      <td>1878</td>\n",
       "      <td>4</td>\n",
       "      <td>974386496</td>\n",
       "      <td>Woo (1998)</td>\n",
       "      <td>Comedy|Romance</td>\n",
       "      <td>1998</td>\n",
       "      <td>Woo</td>\n",
       "    </tr>\n",
       "    <tr>\n",
       "      <th>999630</th>\n",
       "      <td>2645</td>\n",
       "      <td>M</td>\n",
       "      <td>25</td>\n",
       "      <td>7</td>\n",
       "      <td>60657</td>\n",
       "      <td>1878</td>\n",
       "      <td>1</td>\n",
       "      <td>973559598</td>\n",
       "      <td>Woo (1998)</td>\n",
       "      <td>Comedy|Romance</td>\n",
       "      <td>1998</td>\n",
       "      <td>Woo</td>\n",
       "    </tr>\n",
       "    <tr>\n",
       "      <th>999631</th>\n",
       "      <td>3067</td>\n",
       "      <td>F</td>\n",
       "      <td>25</td>\n",
       "      <td>0</td>\n",
       "      <td>02148</td>\n",
       "      <td>1878</td>\n",
       "      <td>2</td>\n",
       "      <td>996607212</td>\n",
       "      <td>Woo (1998)</td>\n",
       "      <td>Comedy|Romance</td>\n",
       "      <td>1998</td>\n",
       "      <td>Woo</td>\n",
       "    </tr>\n",
       "    <tr>\n",
       "      <th>999633</th>\n",
       "      <td>4728</td>\n",
       "      <td>M</td>\n",
       "      <td>25</td>\n",
       "      <td>19</td>\n",
       "      <td>31401</td>\n",
       "      <td>1878</td>\n",
       "      <td>2</td>\n",
       "      <td>963355815</td>\n",
       "      <td>Woo (1998)</td>\n",
       "      <td>Comedy|Romance</td>\n",
       "      <td>1998</td>\n",
       "      <td>Woo</td>\n",
       "    </tr>\n",
       "  </tbody>\n",
       "</table>\n",
       "<p>9937 rows × 12 columns</p>\n",
       "</div>"
      ],
      "text/plain": [
       "        user_id gender  age  occupation    zip  movie_id  rating  timestamp  \\\n",
       "144107        8      M   25          12  11413      2396       5  978229524   \n",
       "144109       11      F   25           1  04093      2396       2  978902561   \n",
       "144111       15      M   25           7  22903      2396       4  978196817   \n",
       "144115       24      F   25           7  10023      2396       4  978134987   \n",
       "144116       28      F   25           1  14607      2396       5  978125846   \n",
       "...         ...    ...  ...         ...    ...       ...     ...        ...   \n",
       "999628     2344      M   25          12  02139      1878       3  974414834   \n",
       "999629     2378      M   25           3  75150      1878       4  974386496   \n",
       "999630     2645      M   25           7  60657      1878       1  973559598   \n",
       "999631     3067      F   25           0  02148      1878       2  996607212   \n",
       "999633     4728      M   25          19  31401      1878       2  963355815   \n",
       "\n",
       "                             title          genres  year          short_title  \n",
       "144107  Shakespeare in Love (1998)  Comedy|Romance  1998  Shakespeare in Love  \n",
       "144109  Shakespeare in Love (1998)  Comedy|Romance  1998  Shakespeare in Love  \n",
       "144111  Shakespeare in Love (1998)  Comedy|Romance  1998  Shakespeare in Love  \n",
       "144115  Shakespeare in Love (1998)  Comedy|Romance  1998  Shakespeare in Love  \n",
       "144116  Shakespeare in Love (1998)  Comedy|Romance  1998  Shakespeare in Love  \n",
       "...                            ...             ...   ...                  ...  \n",
       "999628                  Woo (1998)  Comedy|Romance  1998                  Woo  \n",
       "999629                  Woo (1998)  Comedy|Romance  1998                  Woo  \n",
       "999630                  Woo (1998)  Comedy|Romance  1998                  Woo  \n",
       "999631                  Woo (1998)  Comedy|Romance  1998                  Woo  \n",
       "999633                  Woo (1998)  Comedy|Romance  1998                  Woo  \n",
       "\n",
       "[9937 rows x 12 columns]"
      ]
     },
     "execution_count": 44,
     "metadata": {},
     "output_type": "execute_result"
    }
   ],
   "source": [
    "romantic_movie_data_by_genre_age  = user_rating_movies_table_merge[(user_rating_movies_table_merge[\"genres\"] == \"Comedy|Romance\") & (user_rating_movies_table_merge[\"age\"] == 25) & (user_rating_movies_table_merge[\"year\"].astype(int) > 1993)]\n",
    "                                \n",
    "romantic_movie_data_by_genre_age"
   ]
  },
  {
   "cell_type": "code",
   "execution_count": 45,
   "metadata": {},
   "outputs": [],
   "source": [
    "grouped_data_romanceby_genre_age = romantic_movie_data_by_genre_age.groupby(['movie_id' ,'title' , 'genres' , 'gender' ,'age'])"
   ]
  },
  {
   "cell_type": "code",
   "execution_count": 46,
   "metadata": {},
   "outputs": [
    {
     "data": {
      "text/plain": [
       "<pandas.core.groupby.generic.DataFrameGroupBy object at 0x000001CBA914F820>"
      ]
     },
     "execution_count": 46,
     "metadata": {},
     "output_type": "execute_result"
    }
   ],
   "source": [
    "grouped_data_romanceby_genre_age"
   ]
  },
  {
   "cell_type": "markdown",
   "metadata": {},
   "source": [
    "#### calculate the mean and minvotes as above"
   ]
  },
  {
   "cell_type": "code",
   "execution_count": 47,
   "metadata": {},
   "outputs": [],
   "source": [
    "grouped_data_romanceby_genre_age = grouped_data_romanceby_genre_age.agg({'user_id': 'count','rating':'mean'}).reset_index()\n",
    "\n",
    "grouped_data_romanceby_genre_age = grouped_data_romanceby_genre_age.rename(columns = {'user_id' : 'total_votes_count'})"
   ]
  },
  {
   "cell_type": "code",
   "execution_count": 48,
   "metadata": {},
   "outputs": [
    {
     "name": "stdout",
     "output_type": "stream",
     "text": [
      "3.306161374496498\n"
     ]
    }
   ],
   "source": [
    "mean_rating_romanctic_data_by_genre_age = grouped_data_romance.rating.mean()\n",
    "print(mean_rating_romanctic_data_by_genre_age)"
   ]
  },
  {
   "cell_type": "code",
   "execution_count": 49,
   "metadata": {},
   "outputs": [
    {
     "name": "stdout",
     "output_type": "stream",
     "text": [
      "10.0\n"
     ]
    }
   ],
   "source": [
    "minvotes_romantic_by_genre_age = grouped_data_romance[\"total_votes_count\"].quantile(0.75) - grouped_data_romance[\"total_votes_count\"].quantile(0.25)\n",
    "print(minvotes_romantic_by_genre_age)"
   ]
  },
  {
   "cell_type": "code",
   "execution_count": 50,
   "metadata": {},
   "outputs": [],
   "source": [
    "high_rated_movie_by_genre_age = grouped_data_romanceby_genre_age[(grouped_data_romanceby_genre_age.rating> mean_rating_romanctic_data_by_genre_age) & (grouped_data_romanceby_genre_age.total_votes_count > minvotes_romantic_by_genre_age) ]"
   ]
  },
  {
   "cell_type": "code",
   "execution_count": 51,
   "metadata": {},
   "outputs": [],
   "source": [
    "high_rated_movie_by_genre_age = high_rated_movie_by_genre_age.sort_values(by= ['rating' ,'total_votes_count'] , ascending = False).head(1)"
   ]
  },
  {
   "cell_type": "code",
   "execution_count": 52,
   "metadata": {},
   "outputs": [
    {
     "data": {
      "text/html": [
       "<div>\n",
       "<style scoped>\n",
       "    .dataframe tbody tr th:only-of-type {\n",
       "        vertical-align: middle;\n",
       "    }\n",
       "\n",
       "    .dataframe tbody tr th {\n",
       "        vertical-align: top;\n",
       "    }\n",
       "\n",
       "    .dataframe thead th {\n",
       "        text-align: right;\n",
       "    }\n",
       "</style>\n",
       "<table border=\"1\" class=\"dataframe\">\n",
       "  <thead>\n",
       "    <tr style=\"text-align: right;\">\n",
       "      <th></th>\n",
       "      <th>movie_id</th>\n",
       "      <th>title</th>\n",
       "      <th>genres</th>\n",
       "      <th>gender</th>\n",
       "      <th>age</th>\n",
       "      <th>total_votes_count</th>\n",
       "      <th>rating</th>\n",
       "    </tr>\n",
       "  </thead>\n",
       "  <tbody>\n",
       "    <tr>\n",
       "      <th>114</th>\n",
       "      <td>2396</td>\n",
       "      <td>Shakespeare in Love (1998)</td>\n",
       "      <td>Comedy|Romance</td>\n",
       "      <td>F</td>\n",
       "      <td>25</td>\n",
       "      <td>276</td>\n",
       "      <td>4.206522</td>\n",
       "    </tr>\n",
       "  </tbody>\n",
       "</table>\n",
       "</div>"
      ],
      "text/plain": [
       "     movie_id                       title          genres gender  age  \\\n",
       "114      2396  Shakespeare in Love (1998)  Comedy|Romance      F   25   \n",
       "\n",
       "     total_votes_count    rating  \n",
       "114                276  4.206522  "
      ]
     },
     "execution_count": 52,
     "metadata": {},
     "output_type": "execute_result"
    }
   ],
   "source": [
    "high_rated_movie_by_genre_age"
   ]
  },
  {
   "cell_type": "markdown",
   "metadata": {},
   "source": []
  },
  {
   "cell_type": "code",
   "execution_count": null,
   "metadata": {},
   "outputs": [],
   "source": []
  }
 ],
 "metadata": {
  "kernelspec": {
   "display_name": "Python 3 (ipykernel)",
   "language": "python",
   "name": "python3"
  },
  "language_info": {
   "codemirror_mode": {
    "name": "ipython",
    "version": 3
   },
   "file_extension": ".py",
   "mimetype": "text/x-python",
   "name": "python",
   "nbconvert_exporter": "python",
   "pygments_lexer": "ipython3",
   "version": "3.9.7"
  },
  "nteract": {
   "version": "0.25.0"
  }
 },
 "nbformat": 4,
 "nbformat_minor": 1
}
